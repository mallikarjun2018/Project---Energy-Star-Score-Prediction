{
 "cells": [
  {
   "cell_type": "markdown",
   "metadata": {},
   "source": [
    "##  Energy Star Score Prediction - Regression"
   ]
  },
  {
   "cell_type": "markdown",
   "metadata": {},
   "source": [
    "######  Goal : Predict the Energy Star score of a building and find the factor influencing the score"
   ]
  },
  {
   "cell_type": "code",
   "execution_count": 2,
   "metadata": {},
   "outputs": [],
   "source": [
    "# import packages\n",
    "import pandas as pd\n",
    "import numpy as np\n",
    "import matplotlib.pyplot as plt\n",
    "import seaborn as sns\n",
    "sns.set_style('whitegrid')\n",
    "%matplotlib inline\n",
    "import pandas_profiling as pp\n",
    "import warnings\n",
    "warnings.filterwarnings('ignore')\n",
    "pd.set_option('display.max_columns', 60)"
   ]
  },
  {
   "cell_type": "code",
   "execution_count": 3,
   "metadata": {},
   "outputs": [],
   "source": [
    "data = pd.read_csv(r'C:\\Users\\mallikarjuna.m\\Documents\\Datascience\\Projects June\\Regression\\Energy Star Score Prediction\\data\\raw_file.csv')"
   ]
  },
  {
   "cell_type": "code",
   "execution_count": 4,
   "metadata": {},
   "outputs": [
    {
     "data": {
      "text/html": [
       "<div>\n",
       "<style scoped>\n",
       "    .dataframe tbody tr th:only-of-type {\n",
       "        vertical-align: middle;\n",
       "    }\n",
       "\n",
       "    .dataframe tbody tr th {\n",
       "        vertical-align: top;\n",
       "    }\n",
       "\n",
       "    .dataframe thead th {\n",
       "        text-align: right;\n",
       "    }\n",
       "</style>\n",
       "<table border=\"1\" class=\"dataframe\">\n",
       "  <thead>\n",
       "    <tr style=\"text-align: right;\">\n",
       "      <th></th>\n",
       "      <th>Order</th>\n",
       "      <th>Property Id</th>\n",
       "      <th>Property Name</th>\n",
       "      <th>Parent Property Id</th>\n",
       "      <th>Parent Property Name</th>\n",
       "      <th>BBL - 10 digits</th>\n",
       "      <th>NYC Borough, Block and Lot (BBL) self-reported</th>\n",
       "      <th>NYC Building Identification Number (BIN)</th>\n",
       "      <th>Address 1 (self-reported)</th>\n",
       "      <th>Address 2</th>\n",
       "      <th>Postal Code</th>\n",
       "      <th>Street Number</th>\n",
       "      <th>Street Name</th>\n",
       "      <th>Borough</th>\n",
       "      <th>DOF Gross Floor Area</th>\n",
       "      <th>Primary Property Type - Self Selected</th>\n",
       "      <th>List of All Property Use Types at Property</th>\n",
       "      <th>Largest Property Use Type</th>\n",
       "      <th>Largest Property Use Type - Gross Floor Area (ft²)</th>\n",
       "      <th>2nd Largest Property Use Type</th>\n",
       "      <th>2nd Largest Property Use - Gross Floor Area (ft²)</th>\n",
       "      <th>3rd Largest Property Use Type</th>\n",
       "      <th>3rd Largest Property Use Type - Gross Floor Area (ft²)</th>\n",
       "      <th>Year Built</th>\n",
       "      <th>Number of Buildings - Self-reported</th>\n",
       "      <th>Occupancy</th>\n",
       "      <th>Metered Areas (Energy)</th>\n",
       "      <th>Metered Areas  (Water)</th>\n",
       "      <th>ENERGY STAR Score</th>\n",
       "      <th>Site EUI (kBtu/ft²)</th>\n",
       "      <th>Weather Normalized Site EUI (kBtu/ft²)</th>\n",
       "      <th>Weather Normalized Site Electricity Intensity (kWh/ft²)</th>\n",
       "      <th>Weather Normalized Site Natural Gas Intensity (therms/ft²)</th>\n",
       "      <th>Weather Normalized Source EUI (kBtu/ft²)</th>\n",
       "      <th>Fuel Oil #1 Use (kBtu)</th>\n",
       "      <th>Fuel Oil #2 Use (kBtu)</th>\n",
       "      <th>Fuel Oil #4 Use (kBtu)</th>\n",
       "      <th>Fuel Oil #5 &amp; 6 Use (kBtu)</th>\n",
       "      <th>Diesel #2 Use (kBtu)</th>\n",
       "      <th>District Steam Use (kBtu)</th>\n",
       "      <th>Natural Gas Use (kBtu)</th>\n",
       "      <th>Weather Normalized Site Natural Gas Use (therms)</th>\n",
       "      <th>Electricity Use - Grid Purchase (kBtu)</th>\n",
       "      <th>Weather Normalized Site Electricity (kWh)</th>\n",
       "      <th>Total GHG Emissions (Metric Tons CO2e)</th>\n",
       "      <th>Direct GHG Emissions (Metric Tons CO2e)</th>\n",
       "      <th>Indirect GHG Emissions (Metric Tons CO2e)</th>\n",
       "      <th>Property GFA - Self-Reported (ft²)</th>\n",
       "      <th>Water Use (All Water Sources) (kgal)</th>\n",
       "      <th>Water Intensity (All Water Sources) (gal/ft²)</th>\n",
       "      <th>Source EUI (kBtu/ft²)</th>\n",
       "      <th>Release Date</th>\n",
       "      <th>Water Required?</th>\n",
       "      <th>DOF Benchmarking Submission Status</th>\n",
       "      <th>Latitude</th>\n",
       "      <th>Longitude</th>\n",
       "      <th>Community Board</th>\n",
       "      <th>Council District</th>\n",
       "      <th>Census Tract</th>\n",
       "      <th>NTA</th>\n",
       "    </tr>\n",
       "  </thead>\n",
       "  <tbody>\n",
       "    <tr>\n",
       "      <th>0</th>\n",
       "      <td>1</td>\n",
       "      <td>13286</td>\n",
       "      <td>201/205</td>\n",
       "      <td>13286</td>\n",
       "      <td>201/205</td>\n",
       "      <td>1013160001</td>\n",
       "      <td>1013160001</td>\n",
       "      <td>1037549</td>\n",
       "      <td>201/205  East  42nd  st.</td>\n",
       "      <td>Not Available</td>\n",
       "      <td>10017</td>\n",
       "      <td>675</td>\n",
       "      <td>3 AVENUE</td>\n",
       "      <td>Manhattan</td>\n",
       "      <td>289356.0</td>\n",
       "      <td>Office</td>\n",
       "      <td>Office</td>\n",
       "      <td>Office</td>\n",
       "      <td>293447</td>\n",
       "      <td>Not Available</td>\n",
       "      <td>Not Available</td>\n",
       "      <td>Not Available</td>\n",
       "      <td>Not Available</td>\n",
       "      <td>1963</td>\n",
       "      <td>2</td>\n",
       "      <td>100</td>\n",
       "      <td>Whole Building</td>\n",
       "      <td>Not Available</td>\n",
       "      <td>Not Available</td>\n",
       "      <td>305.6</td>\n",
       "      <td>303.1</td>\n",
       "      <td>37.8</td>\n",
       "      <td>Not Available</td>\n",
       "      <td>614.2</td>\n",
       "      <td>Not Available</td>\n",
       "      <td>Not Available</td>\n",
       "      <td>Not Available</td>\n",
       "      <td>Not Available</td>\n",
       "      <td>Not Available</td>\n",
       "      <td>5.15506751E7</td>\n",
       "      <td>Not Available</td>\n",
       "      <td>Not Available</td>\n",
       "      <td>38139374.2</td>\n",
       "      <td>1.10827705E7</td>\n",
       "      <td>6962.2</td>\n",
       "      <td>0</td>\n",
       "      <td>6962.2</td>\n",
       "      <td>762051</td>\n",
       "      <td>Not Available</td>\n",
       "      <td>Not Available</td>\n",
       "      <td>619.4</td>\n",
       "      <td>05/01/2017 05:32:03 PM</td>\n",
       "      <td>No</td>\n",
       "      <td>In Compliance</td>\n",
       "      <td>40.750791</td>\n",
       "      <td>-73.973963</td>\n",
       "      <td>6.0</td>\n",
       "      <td>4.0</td>\n",
       "      <td>88.0</td>\n",
       "      <td>Turtle Bay-East Midtown                       ...</td>\n",
       "    </tr>\n",
       "    <tr>\n",
       "      <th>1</th>\n",
       "      <td>2</td>\n",
       "      <td>28400</td>\n",
       "      <td>NYP Columbia (West Campus)</td>\n",
       "      <td>28400</td>\n",
       "      <td>NYP Columbia (West Campus)</td>\n",
       "      <td>1021380040</td>\n",
       "      <td>1-02138-0040</td>\n",
       "      <td>1084198; 1084387;1084385; 1084386; 1084388; 10...</td>\n",
       "      <td>622 168th Street</td>\n",
       "      <td>Not Available</td>\n",
       "      <td>10032</td>\n",
       "      <td>180</td>\n",
       "      <td>FT WASHINGTON AVENUE</td>\n",
       "      <td>Manhattan</td>\n",
       "      <td>3693539.0</td>\n",
       "      <td>Hospital (General Medical &amp; Surgical)</td>\n",
       "      <td>Hospital (General Medical &amp; Surgical)</td>\n",
       "      <td>Hospital (General Medical &amp; Surgical)</td>\n",
       "      <td>3889181</td>\n",
       "      <td>Not Available</td>\n",
       "      <td>Not Available</td>\n",
       "      <td>Not Available</td>\n",
       "      <td>Not Available</td>\n",
       "      <td>1969</td>\n",
       "      <td>12</td>\n",
       "      <td>100</td>\n",
       "      <td>Whole Building</td>\n",
       "      <td>Whole Building</td>\n",
       "      <td>55</td>\n",
       "      <td>229.8</td>\n",
       "      <td>228.8</td>\n",
       "      <td>24.8</td>\n",
       "      <td>2.4</td>\n",
       "      <td>401.1</td>\n",
       "      <td>Not Available</td>\n",
       "      <td>1.96248472E7</td>\n",
       "      <td>Not Available</td>\n",
       "      <td>Not Available</td>\n",
       "      <td>Not Available</td>\n",
       "      <td>-3.914148026E8</td>\n",
       "      <td>933073441</td>\n",
       "      <td>9330734.4</td>\n",
       "      <td>332365924</td>\n",
       "      <td>9.62613121E7</td>\n",
       "      <td>55870.4</td>\n",
       "      <td>51016.4</td>\n",
       "      <td>4854.1</td>\n",
       "      <td>3889181</td>\n",
       "      <td>Not Available</td>\n",
       "      <td>Not Available</td>\n",
       "      <td>404.3</td>\n",
       "      <td>04/27/2017 11:23:27 AM</td>\n",
       "      <td>No</td>\n",
       "      <td>In Compliance</td>\n",
       "      <td>40.841402</td>\n",
       "      <td>-73.942568</td>\n",
       "      <td>12.0</td>\n",
       "      <td>10.0</td>\n",
       "      <td>251.0</td>\n",
       "      <td>Washington Heights South                      ...</td>\n",
       "    </tr>\n",
       "    <tr>\n",
       "      <th>2</th>\n",
       "      <td>3</td>\n",
       "      <td>4778226</td>\n",
       "      <td>MSCHoNY North</td>\n",
       "      <td>28400</td>\n",
       "      <td>NYP Columbia (West Campus)</td>\n",
       "      <td>1021380030</td>\n",
       "      <td>1-02138-0030</td>\n",
       "      <td>1063380</td>\n",
       "      <td>3975 Broadway</td>\n",
       "      <td>Not Available</td>\n",
       "      <td>10032</td>\n",
       "      <td>3975</td>\n",
       "      <td>BROADWAY</td>\n",
       "      <td>Manhattan</td>\n",
       "      <td>152765.0</td>\n",
       "      <td>Hospital (General Medical &amp; Surgical)</td>\n",
       "      <td>Hospital (General Medical &amp; Surgical)</td>\n",
       "      <td>Hospital (General Medical &amp; Surgical)</td>\n",
       "      <td>231342</td>\n",
       "      <td>Not Available</td>\n",
       "      <td>Not Available</td>\n",
       "      <td>Not Available</td>\n",
       "      <td>Not Available</td>\n",
       "      <td>1924</td>\n",
       "      <td>1</td>\n",
       "      <td>100</td>\n",
       "      <td>Not Available</td>\n",
       "      <td>Not Available</td>\n",
       "      <td>Not Available</td>\n",
       "      <td>Not Available</td>\n",
       "      <td>Not Available</td>\n",
       "      <td>Not Available</td>\n",
       "      <td>Not Available</td>\n",
       "      <td>Not Available</td>\n",
       "      <td>Not Available</td>\n",
       "      <td>Not Available</td>\n",
       "      <td>Not Available</td>\n",
       "      <td>Not Available</td>\n",
       "      <td>Not Available</td>\n",
       "      <td>Not Available</td>\n",
       "      <td>Not Available</td>\n",
       "      <td>Not Available</td>\n",
       "      <td>Not Available</td>\n",
       "      <td>Not Available</td>\n",
       "      <td>0</td>\n",
       "      <td>0</td>\n",
       "      <td>0</td>\n",
       "      <td>231342</td>\n",
       "      <td>Not Available</td>\n",
       "      <td>Not Available</td>\n",
       "      <td>Not Available</td>\n",
       "      <td>04/27/2017 11:23:27 AM</td>\n",
       "      <td>No</td>\n",
       "      <td>In Compliance</td>\n",
       "      <td>40.840427</td>\n",
       "      <td>-73.940249</td>\n",
       "      <td>12.0</td>\n",
       "      <td>10.0</td>\n",
       "      <td>251.0</td>\n",
       "      <td>Washington Heights South                      ...</td>\n",
       "    </tr>\n",
       "    <tr>\n",
       "      <th>3</th>\n",
       "      <td>4</td>\n",
       "      <td>4778267</td>\n",
       "      <td>Herbert Irving Pavilion &amp; Millstein Hospital</td>\n",
       "      <td>28400</td>\n",
       "      <td>NYP Columbia (West Campus)</td>\n",
       "      <td>1021390001</td>\n",
       "      <td>1-02139-0001</td>\n",
       "      <td>1087281; 1076746</td>\n",
       "      <td>161 Fort Washington Ave</td>\n",
       "      <td>177 Fort Washington Ave</td>\n",
       "      <td>10032</td>\n",
       "      <td>161</td>\n",
       "      <td>FT WASHINGTON AVENUE</td>\n",
       "      <td>Manhattan</td>\n",
       "      <td>891040.0</td>\n",
       "      <td>Hospital (General Medical &amp; Surgical)</td>\n",
       "      <td>Hospital (General Medical &amp; Surgical)</td>\n",
       "      <td>Hospital (General Medical &amp; Surgical)</td>\n",
       "      <td>1305748</td>\n",
       "      <td>Not Available</td>\n",
       "      <td>Not Available</td>\n",
       "      <td>Not Available</td>\n",
       "      <td>Not Available</td>\n",
       "      <td>1971</td>\n",
       "      <td>1</td>\n",
       "      <td>100</td>\n",
       "      <td>Not Available</td>\n",
       "      <td>Not Available</td>\n",
       "      <td>Not Available</td>\n",
       "      <td>Not Available</td>\n",
       "      <td>Not Available</td>\n",
       "      <td>Not Available</td>\n",
       "      <td>Not Available</td>\n",
       "      <td>Not Available</td>\n",
       "      <td>Not Available</td>\n",
       "      <td>Not Available</td>\n",
       "      <td>Not Available</td>\n",
       "      <td>Not Available</td>\n",
       "      <td>Not Available</td>\n",
       "      <td>Not Available</td>\n",
       "      <td>Not Available</td>\n",
       "      <td>Not Available</td>\n",
       "      <td>Not Available</td>\n",
       "      <td>Not Available</td>\n",
       "      <td>0</td>\n",
       "      <td>0</td>\n",
       "      <td>0</td>\n",
       "      <td>1305748</td>\n",
       "      <td>Not Available</td>\n",
       "      <td>Not Available</td>\n",
       "      <td>Not Available</td>\n",
       "      <td>04/27/2017 11:23:27 AM</td>\n",
       "      <td>No</td>\n",
       "      <td>In Compliance</td>\n",
       "      <td>40.840746</td>\n",
       "      <td>-73.942854</td>\n",
       "      <td>12.0</td>\n",
       "      <td>10.0</td>\n",
       "      <td>255.0</td>\n",
       "      <td>Washington Heights South                      ...</td>\n",
       "    </tr>\n",
       "    <tr>\n",
       "      <th>4</th>\n",
       "      <td>5</td>\n",
       "      <td>4778288</td>\n",
       "      <td>Neuro Institute</td>\n",
       "      <td>28400</td>\n",
       "      <td>NYP Columbia (West Campus)</td>\n",
       "      <td>1021390085</td>\n",
       "      <td>1-02139-0085</td>\n",
       "      <td>1063403</td>\n",
       "      <td>710 West 168th Street</td>\n",
       "      <td>Not Available</td>\n",
       "      <td>10032</td>\n",
       "      <td>193</td>\n",
       "      <td>FT WASHINGTON AVENUE</td>\n",
       "      <td>Manhattan</td>\n",
       "      <td>211400.0</td>\n",
       "      <td>Hospital (General Medical &amp; Surgical)</td>\n",
       "      <td>Hospital (General Medical &amp; Surgical)</td>\n",
       "      <td>Hospital (General Medical &amp; Surgical)</td>\n",
       "      <td>179694</td>\n",
       "      <td>Not Available</td>\n",
       "      <td>Not Available</td>\n",
       "      <td>Not Available</td>\n",
       "      <td>Not Available</td>\n",
       "      <td>1932</td>\n",
       "      <td>1</td>\n",
       "      <td>100</td>\n",
       "      <td>Not Available</td>\n",
       "      <td>Not Available</td>\n",
       "      <td>Not Available</td>\n",
       "      <td>Not Available</td>\n",
       "      <td>Not Available</td>\n",
       "      <td>Not Available</td>\n",
       "      <td>Not Available</td>\n",
       "      <td>Not Available</td>\n",
       "      <td>Not Available</td>\n",
       "      <td>Not Available</td>\n",
       "      <td>Not Available</td>\n",
       "      <td>Not Available</td>\n",
       "      <td>Not Available</td>\n",
       "      <td>Not Available</td>\n",
       "      <td>Not Available</td>\n",
       "      <td>Not Available</td>\n",
       "      <td>Not Available</td>\n",
       "      <td>Not Available</td>\n",
       "      <td>0</td>\n",
       "      <td>0</td>\n",
       "      <td>0</td>\n",
       "      <td>179694</td>\n",
       "      <td>Not Available</td>\n",
       "      <td>Not Available</td>\n",
       "      <td>Not Available</td>\n",
       "      <td>04/27/2017 11:23:27 AM</td>\n",
       "      <td>No</td>\n",
       "      <td>In Compliance</td>\n",
       "      <td>40.841559</td>\n",
       "      <td>-73.942528</td>\n",
       "      <td>12.0</td>\n",
       "      <td>10.0</td>\n",
       "      <td>255.0</td>\n",
       "      <td>Washington Heights South                      ...</td>\n",
       "    </tr>\n",
       "  </tbody>\n",
       "</table>\n",
       "</div>"
      ],
      "text/plain": [
       "   Order  Property Id                                 Property Name  \\\n",
       "0      1        13286                                       201/205   \n",
       "1      2        28400                    NYP Columbia (West Campus)   \n",
       "2      3      4778226                                 MSCHoNY North   \n",
       "3      4      4778267  Herbert Irving Pavilion & Millstein Hospital   \n",
       "4      5      4778288                               Neuro Institute   \n",
       "\n",
       "  Parent Property Id        Parent Property Name BBL - 10 digits  \\\n",
       "0              13286                     201/205      1013160001   \n",
       "1              28400  NYP Columbia (West Campus)      1021380040   \n",
       "2              28400  NYP Columbia (West Campus)      1021380030   \n",
       "3              28400  NYP Columbia (West Campus)      1021390001   \n",
       "4              28400  NYP Columbia (West Campus)      1021390085   \n",
       "\n",
       "  NYC Borough, Block and Lot (BBL) self-reported  \\\n",
       "0                                     1013160001   \n",
       "1                                   1-02138-0040   \n",
       "2                                   1-02138-0030   \n",
       "3                                   1-02139-0001   \n",
       "4                                   1-02139-0085   \n",
       "\n",
       "            NYC Building Identification Number (BIN)  \\\n",
       "0                                            1037549   \n",
       "1  1084198; 1084387;1084385; 1084386; 1084388; 10...   \n",
       "2                                            1063380   \n",
       "3                                   1087281; 1076746   \n",
       "4                                            1063403   \n",
       "\n",
       "  Address 1 (self-reported)                Address 2 Postal Code  \\\n",
       "0  201/205  East  42nd  st.            Not Available       10017   \n",
       "1          622 168th Street            Not Available       10032   \n",
       "2             3975 Broadway            Not Available       10032   \n",
       "3   161 Fort Washington Ave  177 Fort Washington Ave       10032   \n",
       "4     710 West 168th Street            Not Available       10032   \n",
       "\n",
       "  Street Number           Street Name    Borough  DOF Gross Floor Area  \\\n",
       "0           675              3 AVENUE  Manhattan              289356.0   \n",
       "1           180  FT WASHINGTON AVENUE  Manhattan             3693539.0   \n",
       "2          3975              BROADWAY  Manhattan              152765.0   \n",
       "3           161  FT WASHINGTON AVENUE  Manhattan              891040.0   \n",
       "4           193  FT WASHINGTON AVENUE  Manhattan              211400.0   \n",
       "\n",
       "   Primary Property Type - Self Selected  \\\n",
       "0                                 Office   \n",
       "1  Hospital (General Medical & Surgical)   \n",
       "2  Hospital (General Medical & Surgical)   \n",
       "3  Hospital (General Medical & Surgical)   \n",
       "4  Hospital (General Medical & Surgical)   \n",
       "\n",
       "  List of All Property Use Types at Property  \\\n",
       "0                                     Office   \n",
       "1      Hospital (General Medical & Surgical)   \n",
       "2      Hospital (General Medical & Surgical)   \n",
       "3      Hospital (General Medical & Surgical)   \n",
       "4      Hospital (General Medical & Surgical)   \n",
       "\n",
       "               Largest Property Use Type  \\\n",
       "0                                 Office   \n",
       "1  Hospital (General Medical & Surgical)   \n",
       "2  Hospital (General Medical & Surgical)   \n",
       "3  Hospital (General Medical & Surgical)   \n",
       "4  Hospital (General Medical & Surgical)   \n",
       "\n",
       "  Largest Property Use Type - Gross Floor Area (ft²)  \\\n",
       "0                                             293447   \n",
       "1                                            3889181   \n",
       "2                                             231342   \n",
       "3                                            1305748   \n",
       "4                                             179694   \n",
       "\n",
       "  2nd Largest Property Use Type  \\\n",
       "0                 Not Available   \n",
       "1                 Not Available   \n",
       "2                 Not Available   \n",
       "3                 Not Available   \n",
       "4                 Not Available   \n",
       "\n",
       "  2nd Largest Property Use - Gross Floor Area (ft²)  \\\n",
       "0                                     Not Available   \n",
       "1                                     Not Available   \n",
       "2                                     Not Available   \n",
       "3                                     Not Available   \n",
       "4                                     Not Available   \n",
       "\n",
       "  3rd Largest Property Use Type  \\\n",
       "0                 Not Available   \n",
       "1                 Not Available   \n",
       "2                 Not Available   \n",
       "3                 Not Available   \n",
       "4                 Not Available   \n",
       "\n",
       "  3rd Largest Property Use Type - Gross Floor Area (ft²)  Year Built  \\\n",
       "0                                      Not Available            1963   \n",
       "1                                      Not Available            1969   \n",
       "2                                      Not Available            1924   \n",
       "3                                      Not Available            1971   \n",
       "4                                      Not Available            1932   \n",
       "\n",
       "   Number of Buildings - Self-reported  Occupancy Metered Areas (Energy)  \\\n",
       "0                                    2        100         Whole Building   \n",
       "1                                   12        100         Whole Building   \n",
       "2                                    1        100          Not Available   \n",
       "3                                    1        100          Not Available   \n",
       "4                                    1        100          Not Available   \n",
       "\n",
       "  Metered Areas  (Water) ENERGY STAR Score Site EUI (kBtu/ft²)  \\\n",
       "0          Not Available     Not Available               305.6   \n",
       "1         Whole Building                55               229.8   \n",
       "2          Not Available     Not Available       Not Available   \n",
       "3          Not Available     Not Available       Not Available   \n",
       "4          Not Available     Not Available       Not Available   \n",
       "\n",
       "  Weather Normalized Site EUI (kBtu/ft²)  \\\n",
       "0                                  303.1   \n",
       "1                                  228.8   \n",
       "2                          Not Available   \n",
       "3                          Not Available   \n",
       "4                          Not Available   \n",
       "\n",
       "  Weather Normalized Site Electricity Intensity (kWh/ft²)  \\\n",
       "0                                               37.8        \n",
       "1                                               24.8        \n",
       "2                                      Not Available        \n",
       "3                                      Not Available        \n",
       "4                                      Not Available        \n",
       "\n",
       "  Weather Normalized Site Natural Gas Intensity (therms/ft²)  \\\n",
       "0                                      Not Available           \n",
       "1                                                2.4           \n",
       "2                                      Not Available           \n",
       "3                                      Not Available           \n",
       "4                                      Not Available           \n",
       "\n",
       "  Weather Normalized Source EUI (kBtu/ft²) Fuel Oil #1 Use (kBtu)  \\\n",
       "0                                    614.2          Not Available   \n",
       "1                                    401.1          Not Available   \n",
       "2                            Not Available          Not Available   \n",
       "3                            Not Available          Not Available   \n",
       "4                            Not Available          Not Available   \n",
       "\n",
       "  Fuel Oil #2 Use (kBtu) Fuel Oil #4 Use (kBtu) Fuel Oil #5 & 6 Use (kBtu)  \\\n",
       "0          Not Available          Not Available              Not Available   \n",
       "1           1.96248472E7          Not Available              Not Available   \n",
       "2          Not Available          Not Available              Not Available   \n",
       "3          Not Available          Not Available              Not Available   \n",
       "4          Not Available          Not Available              Not Available   \n",
       "\n",
       "  Diesel #2 Use (kBtu) District Steam Use (kBtu) Natural Gas Use (kBtu)  \\\n",
       "0        Not Available              5.15506751E7          Not Available   \n",
       "1        Not Available            -3.914148026E8              933073441   \n",
       "2        Not Available             Not Available          Not Available   \n",
       "3        Not Available             Not Available          Not Available   \n",
       "4        Not Available             Not Available          Not Available   \n",
       "\n",
       "  Weather Normalized Site Natural Gas Use (therms)  \\\n",
       "0                                    Not Available   \n",
       "1                                        9330734.4   \n",
       "2                                    Not Available   \n",
       "3                                    Not Available   \n",
       "4                                    Not Available   \n",
       "\n",
       "  Electricity Use - Grid Purchase (kBtu)  \\\n",
       "0                             38139374.2   \n",
       "1                              332365924   \n",
       "2                          Not Available   \n",
       "3                          Not Available   \n",
       "4                          Not Available   \n",
       "\n",
       "  Weather Normalized Site Electricity (kWh)  \\\n",
       "0                              1.10827705E7   \n",
       "1                              9.62613121E7   \n",
       "2                             Not Available   \n",
       "3                             Not Available   \n",
       "4                             Not Available   \n",
       "\n",
       "  Total GHG Emissions (Metric Tons CO2e)  \\\n",
       "0                                 6962.2   \n",
       "1                                55870.4   \n",
       "2                                      0   \n",
       "3                                      0   \n",
       "4                                      0   \n",
       "\n",
       "  Direct GHG Emissions (Metric Tons CO2e)  \\\n",
       "0                                       0   \n",
       "1                                 51016.4   \n",
       "2                                       0   \n",
       "3                                       0   \n",
       "4                                       0   \n",
       "\n",
       "  Indirect GHG Emissions (Metric Tons CO2e)  \\\n",
       "0                                    6962.2   \n",
       "1                                    4854.1   \n",
       "2                                         0   \n",
       "3                                         0   \n",
       "4                                         0   \n",
       "\n",
       "   Property GFA - Self-Reported (ft²) Water Use (All Water Sources) (kgal)  \\\n",
       "0                              762051                        Not Available   \n",
       "1                             3889181                        Not Available   \n",
       "2                              231342                        Not Available   \n",
       "3                             1305748                        Not Available   \n",
       "4                              179694                        Not Available   \n",
       "\n",
       "  Water Intensity (All Water Sources) (gal/ft²) Source EUI (kBtu/ft²)  \\\n",
       "0                                 Not Available                 619.4   \n",
       "1                                 Not Available                 404.3   \n",
       "2                                 Not Available         Not Available   \n",
       "3                                 Not Available         Not Available   \n",
       "4                                 Not Available         Not Available   \n",
       "\n",
       "             Release Date Water Required? DOF Benchmarking Submission Status  \\\n",
       "0  05/01/2017 05:32:03 PM              No                      In Compliance   \n",
       "1  04/27/2017 11:23:27 AM              No                      In Compliance   \n",
       "2  04/27/2017 11:23:27 AM              No                      In Compliance   \n",
       "3  04/27/2017 11:23:27 AM              No                      In Compliance   \n",
       "4  04/27/2017 11:23:27 AM              No                      In Compliance   \n",
       "\n",
       "    Latitude  Longitude  Community Board  Council District  Census Tract  \\\n",
       "0  40.750791 -73.973963              6.0               4.0          88.0   \n",
       "1  40.841402 -73.942568             12.0              10.0         251.0   \n",
       "2  40.840427 -73.940249             12.0              10.0         251.0   \n",
       "3  40.840746 -73.942854             12.0              10.0         255.0   \n",
       "4  40.841559 -73.942528             12.0              10.0         255.0   \n",
       "\n",
       "                                                 NTA  \n",
       "0  Turtle Bay-East Midtown                       ...  \n",
       "1  Washington Heights South                      ...  \n",
       "2  Washington Heights South                      ...  \n",
       "3  Washington Heights South                      ...  \n",
       "4  Washington Heights South                      ...  "
      ]
     },
     "execution_count": 4,
     "metadata": {},
     "output_type": "execute_result"
    }
   ],
   "source": [
    "data.head()"
   ]
  },
  {
   "cell_type": "code",
   "execution_count": 5,
   "metadata": {},
   "outputs": [
    {
     "name": "stdout",
     "output_type": "stream",
     "text": [
      "<class 'pandas.core.frame.DataFrame'>\n",
      "RangeIndex: 11746 entries, 0 to 11745\n",
      "Data columns (total 60 columns):\n",
      "Order                                                         11746 non-null int64\n",
      "Property Id                                                   11746 non-null int64\n",
      "Property Name                                                 11746 non-null object\n",
      "Parent Property Id                                            11746 non-null object\n",
      "Parent Property Name                                          11746 non-null object\n",
      "BBL - 10 digits                                               11735 non-null object\n",
      "NYC Borough, Block and Lot (BBL) self-reported                11746 non-null object\n",
      "NYC Building Identification Number (BIN)                      11746 non-null object\n",
      "Address 1 (self-reported)                                     11746 non-null object\n",
      "Address 2                                                     11746 non-null object\n",
      "Postal Code                                                   11746 non-null object\n",
      "Street Number                                                 11622 non-null object\n",
      "Street Name                                                   11624 non-null object\n",
      "Borough                                                       11628 non-null object\n",
      "DOF Gross Floor Area                                          11628 non-null float64\n",
      "Primary Property Type - Self Selected                         11746 non-null object\n",
      "List of All Property Use Types at Property                    11746 non-null object\n",
      "Largest Property Use Type                                     11746 non-null object\n",
      "Largest Property Use Type - Gross Floor Area (ft²)            11746 non-null object\n",
      "2nd Largest Property Use Type                                 11746 non-null object\n",
      "2nd Largest Property Use - Gross Floor Area (ft²)             11746 non-null object\n",
      "3rd Largest Property Use Type                                 11746 non-null object\n",
      "3rd Largest Property Use Type - Gross Floor Area (ft²)        11746 non-null object\n",
      "Year Built                                                    11746 non-null int64\n",
      "Number of Buildings - Self-reported                           11746 non-null int64\n",
      "Occupancy                                                     11746 non-null int64\n",
      "Metered Areas (Energy)                                        11746 non-null object\n",
      "Metered Areas  (Water)                                        11746 non-null object\n",
      "ENERGY STAR Score                                             11746 non-null object\n",
      "Site EUI (kBtu/ft²)                                           11746 non-null object\n",
      "Weather Normalized Site EUI (kBtu/ft²)                        11746 non-null object\n",
      "Weather Normalized Site Electricity Intensity (kWh/ft²)       11746 non-null object\n",
      "Weather Normalized Site Natural Gas Intensity (therms/ft²)    11746 non-null object\n",
      "Weather Normalized Source EUI (kBtu/ft²)                      11746 non-null object\n",
      "Fuel Oil #1 Use (kBtu)                                        11746 non-null object\n",
      "Fuel Oil #2 Use (kBtu)                                        11746 non-null object\n",
      "Fuel Oil #4 Use (kBtu)                                        11746 non-null object\n",
      "Fuel Oil #5 & 6 Use (kBtu)                                    11746 non-null object\n",
      "Diesel #2 Use (kBtu)                                          11746 non-null object\n",
      "District Steam Use (kBtu)                                     11746 non-null object\n",
      "Natural Gas Use (kBtu)                                        11746 non-null object\n",
      "Weather Normalized Site Natural Gas Use (therms)              11746 non-null object\n",
      "Electricity Use - Grid Purchase (kBtu)                        11746 non-null object\n",
      "Weather Normalized Site Electricity (kWh)                     11746 non-null object\n",
      "Total GHG Emissions (Metric Tons CO2e)                        11746 non-null object\n",
      "Direct GHG Emissions (Metric Tons CO2e)                       11746 non-null object\n",
      "Indirect GHG Emissions (Metric Tons CO2e)                     11746 non-null object\n",
      "Property GFA - Self-Reported (ft²)                            11746 non-null int64\n",
      "Water Use (All Water Sources) (kgal)                          11746 non-null object\n",
      "Water Intensity (All Water Sources) (gal/ft²)                 11746 non-null object\n",
      "Source EUI (kBtu/ft²)                                         11746 non-null object\n",
      "Release Date                                                  11746 non-null object\n",
      "Water Required?                                               11628 non-null object\n",
      "DOF Benchmarking Submission Status                            11716 non-null object\n",
      "Latitude                                                      9483 non-null float64\n",
      "Longitude                                                     9483 non-null float64\n",
      "Community Board                                               9483 non-null float64\n",
      "Council District                                              9483 non-null float64\n",
      "Census Tract                                                  9483 non-null float64\n",
      "NTA                                                           9483 non-null object\n",
      "dtypes: float64(6), int64(6), object(48)\n",
      "memory usage: 5.4+ MB\n"
     ]
    }
   ],
   "source": [
    "data.info()"
   ]
  },
  {
   "cell_type": "code",
   "execution_count": 6,
   "metadata": {},
   "outputs": [
    {
     "name": "stdout",
     "output_type": "stream",
     "text": [
      "the dataset has number of rows 11746 and columns 60\n"
     ]
    }
   ],
   "source": [
    "print(\"the dataset has number of rows {x} and columns {y}\".format(x= data.shape[0] , y = data.shape[1]))"
   ]
  },
  {
   "cell_type": "code",
   "execution_count": 7,
   "metadata": {},
   "outputs": [
    {
     "name": "stdout",
     "output_type": "stream",
     "text": [
      "number of obj 48 , number of integers 6 and number of floats are 6\n"
     ]
    }
   ],
   "source": [
    "obj = len(data.select_dtypes ('O').columns)\n",
    "integer = len(data.select_dtypes ('int64').columns)\n",
    "float_num = len(data.select_dtypes ('float64').columns)\n",
    "\n",
    "print('number of obj {} , number of integers {} and number of floats are {}'.format(obj,integer,float_num))"
   ]
  },
  {
   "cell_type": "markdown",
   "metadata": {},
   "source": [
    "Analysis:\n",
    "\n",
    "* The data has 11746 rows and 60 features\n",
    "* Most of the fetures are objects with 'non available'. Need to check does the features is made as object because of non available though it has numbers in it."
   ]
  },
  {
   "cell_type": "markdown",
   "metadata": {},
   "source": [
    "###  Data Cleaning and Formating"
   ]
  },
  {
   "cell_type": "code",
   "execution_count": 8,
   "metadata": {},
   "outputs": [],
   "source": [
    "# replace all Not Available into NaN\n",
    "\n",
    "data = data.replace('Not Available', np.nan)\n",
    "obj_col = data.select_dtypes ('O').columns\n",
    "\n",
    "'''convert the datatypes of features with 'ft²', 'therms', 'kBtu', 'Metric Tons CO2e', \n",
    "#'gal','kWh' ,'Score' from object to float ''' \n",
    "\n",
    "for i in obj_col:\n",
    "    if ('ft²' in i or 'therms' in i or 'kBtu' in i or 'Metric Tons CO2e' in i or 'gal' in i or \n",
    "        'kWh' in i  or 'Score' in i) :\n",
    "        data[i] = data[i].astype('float64')"
   ]
  },
  {
   "cell_type": "code",
   "execution_count": 9,
   "metadata": {},
   "outputs": [
    {
     "name": "stdout",
     "output_type": "stream",
     "text": [
      "number of obj 23 , number of integers 6 and number of floats are 31\n"
     ]
    }
   ],
   "source": [
    "obj = len(data.select_dtypes ('O').columns)\n",
    "integer = len(data.select_dtypes ('int64').columns)\n",
    "float_num = len(data.select_dtypes ('float64').columns)\n",
    "\n",
    "print('number of obj {} , number of integers {} and number of floats are {}'.format(obj,integer,float_num))"
   ]
  },
  {
   "cell_type": "code",
   "execution_count": 10,
   "metadata": {},
   "outputs": [
    {
     "data": {
      "text/html": [
       "<div>\n",
       "<style scoped>\n",
       "    .dataframe tbody tr th:only-of-type {\n",
       "        vertical-align: middle;\n",
       "    }\n",
       "\n",
       "    .dataframe tbody tr th {\n",
       "        vertical-align: top;\n",
       "    }\n",
       "\n",
       "    .dataframe thead th {\n",
       "        text-align: right;\n",
       "    }\n",
       "</style>\n",
       "<table border=\"1\" class=\"dataframe\">\n",
       "  <thead>\n",
       "    <tr style=\"text-align: right;\">\n",
       "      <th></th>\n",
       "      <th>missing_num</th>\n",
       "      <th>missing_per</th>\n",
       "    </tr>\n",
       "  </thead>\n",
       "  <tbody>\n",
       "    <tr>\n",
       "      <th>Fuel Oil #1 Use (kBtu)</th>\n",
       "      <td>11737</td>\n",
       "      <td>99.923378</td>\n",
       "    </tr>\n",
       "    <tr>\n",
       "      <th>Diesel #2 Use (kBtu)</th>\n",
       "      <td>11730</td>\n",
       "      <td>99.863783</td>\n",
       "    </tr>\n",
       "    <tr>\n",
       "      <th>Address 2</th>\n",
       "      <td>11539</td>\n",
       "      <td>98.237698</td>\n",
       "    </tr>\n",
       "    <tr>\n",
       "      <th>Fuel Oil #5 &amp; 6 Use (kBtu)</th>\n",
       "      <td>11152</td>\n",
       "      <td>94.942959</td>\n",
       "    </tr>\n",
       "    <tr>\n",
       "      <th>District Steam Use (kBtu)</th>\n",
       "      <td>10810</td>\n",
       "      <td>92.031330</td>\n",
       "    </tr>\n",
       "  </tbody>\n",
       "</table>\n",
       "</div>"
      ],
      "text/plain": [
       "                            missing_num  missing_per\n",
       "Fuel Oil #1 Use (kBtu)            11737    99.923378\n",
       "Diesel #2 Use (kBtu)              11730    99.863783\n",
       "Address 2                         11539    98.237698\n",
       "Fuel Oil #5 & 6 Use (kBtu)        11152    94.942959\n",
       "District Steam Use (kBtu)         10810    92.031330"
      ]
     },
     "execution_count": 10,
     "metadata": {},
     "output_type": "execute_result"
    }
   ],
   "source": [
    "# Missing data\n",
    "\n",
    "missing_num = data.isnull().sum()[data.isnull().sum() > 0].sort_values(ascending = False)\n",
    "missing_per = (missing_num / len(data))* 100\n",
    "missing = pd.concat([missing_num, missing_per ], axis = 1)\n",
    "missing = missing.rename(columns= {0: 'missing_num' , 1 : 'missing_per' })\n",
    "missing.head()"
   ]
  },
  {
   "cell_type": "code",
   "execution_count": 11,
   "metadata": {},
   "outputs": [
    {
     "data": {
      "text/plain": [
       "(11746, 49)"
      ]
     },
     "execution_count": 11,
     "metadata": {},
     "output_type": "execute_result"
    }
   ],
   "source": [
    "# Remove columns with more than 50% of data missing\n",
    "\n",
    "mis_50_col = missing[missing_per > 50].index\n",
    "data = data.drop(mis_50_col, axis=1)\n",
    "data.shape"
   ]
  },
  {
   "cell_type": "code",
   "execution_count": 12,
   "metadata": {},
   "outputs": [
    {
     "name": "stdout",
     "output_type": "stream",
     "text": [
      "11 columns were removed as it has more than 50% of missing data\n"
     ]
    }
   ],
   "source": [
    "print('{} columns were removed as it has more than 50% of missing data'.format(len(mis_50_col)))"
   ]
  },
  {
   "cell_type": "markdown",
   "metadata": {},
   "source": [
    "###  Exploratory Data Analaysis ( EDA)"
   ]
  },
  {
   "cell_type": "markdown",
   "metadata": {},
   "source": [
    "##### Uni-variable plot"
   ]
  },
  {
   "cell_type": "code",
   "execution_count": 13,
   "metadata": {},
   "outputs": [
    {
     "data": {
      "text/plain": [
       "<matplotlib.axes._subplots.AxesSubplot at 0x262ea743240>"
      ]
     },
     "execution_count": 13,
     "metadata": {},
     "output_type": "execute_result"
    },
    {
     "data": {
      "image/png": "[encoded data removed]",
      "text/plain": [
       "<Figure size 432x288 with 1 Axes>"
      ]
     },
     "metadata": {
      "needs_background": "light"
     },
     "output_type": "display_data"
    }
   ],
   "source": [
    "# Exploration of target variable - ENERGY STAR Score\n",
    "\n",
    "data['ENERGY STAR Score'].hist()"
   ]
  },
  {
   "cell_type": "markdown",
   "metadata": {},
   "source": [
    "As per data , the score should be uniformaly distibuted as it is a rank percentile from 1-100. But the data is not uniformaly distibuted. so we now check \"Site EUI (kBtu/ft²\" which is a important feature "
   ]
  },
  {
   "cell_type": "code",
   "execution_count": 14,
   "metadata": {},
   "outputs": [
    {
     "data": {
      "text/plain": [
       "<matplotlib.axes._subplots.AxesSubplot at 0x262ea8aceb8>"
      ]
     },
     "execution_count": 14,
     "metadata": {},
     "output_type": "execute_result"
    },
    {
     "data": {
      "image/png": "[encoded data removed]",
      "text/plain": [
       "<Figure size 432x288 with 1 Axes>"
      ]
     },
     "metadata": {
      "needs_background": "light"
     },
     "output_type": "display_data"
    }
   ],
   "source": [
    "data['Site EUI (kBtu/ft²)'].hist()"
   ]
  },
  {
   "cell_type": "code",
   "execution_count": 15,
   "metadata": {},
   "outputs": [
    {
     "data": {
      "text/plain": [
       "count     11583.000000\n",
       "mean        280.071484\n",
       "std        8607.178877\n",
       "min           0.000000\n",
       "25%          61.800000\n",
       "50%          78.500000\n",
       "75%          97.600000\n",
       "max      869265.000000\n",
       "Name: Site EUI (kBtu/ft²), dtype: float64"
      ]
     },
     "execution_count": 15,
     "metadata": {},
     "output_type": "execute_result"
    }
   ],
   "source": [
    "data['Site EUI (kBtu/ft²)'].describe()"
   ]
  },
  {
   "cell_type": "markdown",
   "metadata": {},
   "source": [
    "Site EUI (kBtu/ft²)' has the average of 280 but there is max value of 869265 which is an extreme value. so should avoid such outliers from the data for normal distibution\n"
   ]
  },
  {
   "cell_type": "code",
   "execution_count": 16,
   "metadata": {},
   "outputs": [
    {
     "data": {
      "text/html": [
       "<div>\n",
       "<style scoped>\n",
       "    .dataframe tbody tr th:only-of-type {\n",
       "        vertical-align: middle;\n",
       "    }\n",
       "\n",
       "    .dataframe tbody tr th {\n",
       "        vertical-align: top;\n",
       "    }\n",
       "\n",
       "    .dataframe thead th {\n",
       "        text-align: right;\n",
       "    }\n",
       "</style>\n",
       "<table border=\"1\" class=\"dataframe\">\n",
       "  <thead>\n",
       "    <tr style=\"text-align: right;\">\n",
       "      <th></th>\n",
       "      <th>Order</th>\n",
       "      <th>Property Id</th>\n",
       "      <th>Property Name</th>\n",
       "      <th>Parent Property Id</th>\n",
       "      <th>Parent Property Name</th>\n",
       "      <th>BBL - 10 digits</th>\n",
       "      <th>NYC Borough, Block and Lot (BBL) self-reported</th>\n",
       "      <th>NYC Building Identification Number (BIN)</th>\n",
       "      <th>Address 1 (self-reported)</th>\n",
       "      <th>Postal Code</th>\n",
       "      <th>Street Number</th>\n",
       "      <th>Street Name</th>\n",
       "      <th>Borough</th>\n",
       "      <th>DOF Gross Floor Area</th>\n",
       "      <th>Primary Property Type - Self Selected</th>\n",
       "      <th>List of All Property Use Types at Property</th>\n",
       "      <th>Largest Property Use Type</th>\n",
       "      <th>Largest Property Use Type - Gross Floor Area (ft²)</th>\n",
       "      <th>Year Built</th>\n",
       "      <th>Number of Buildings - Self-reported</th>\n",
       "      <th>Occupancy</th>\n",
       "      <th>Metered Areas (Energy)</th>\n",
       "      <th>Metered Areas  (Water)</th>\n",
       "      <th>ENERGY STAR Score</th>\n",
       "      <th>Site EUI (kBtu/ft²)</th>\n",
       "      <th>Weather Normalized Site EUI (kBtu/ft²)</th>\n",
       "      <th>Weather Normalized Site Electricity Intensity (kWh/ft²)</th>\n",
       "      <th>Weather Normalized Site Natural Gas Intensity (therms/ft²)</th>\n",
       "      <th>Weather Normalized Source EUI (kBtu/ft²)</th>\n",
       "      <th>Natural Gas Use (kBtu)</th>\n",
       "      <th>Weather Normalized Site Natural Gas Use (therms)</th>\n",
       "      <th>Electricity Use - Grid Purchase (kBtu)</th>\n",
       "      <th>Weather Normalized Site Electricity (kWh)</th>\n",
       "      <th>Total GHG Emissions (Metric Tons CO2e)</th>\n",
       "      <th>Direct GHG Emissions (Metric Tons CO2e)</th>\n",
       "      <th>Indirect GHG Emissions (Metric Tons CO2e)</th>\n",
       "      <th>Property GFA - Self-Reported (ft²)</th>\n",
       "      <th>Water Use (All Water Sources) (kgal)</th>\n",
       "      <th>Water Intensity (All Water Sources) (gal/ft²)</th>\n",
       "      <th>Source EUI (kBtu/ft²)</th>\n",
       "      <th>Release Date</th>\n",
       "      <th>Water Required?</th>\n",
       "      <th>DOF Benchmarking Submission Status</th>\n",
       "      <th>Latitude</th>\n",
       "      <th>Longitude</th>\n",
       "      <th>Community Board</th>\n",
       "      <th>Council District</th>\n",
       "      <th>Census Tract</th>\n",
       "      <th>NTA</th>\n",
       "    </tr>\n",
       "  </thead>\n",
       "  <tbody>\n",
       "    <tr>\n",
       "      <th>8068</th>\n",
       "      <td>9984</td>\n",
       "      <td>4414323</td>\n",
       "      <td>234 Skillman</td>\n",
       "      <td>Not Applicable: Standalone Property</td>\n",
       "      <td>Not Applicable: Standalone Property</td>\n",
       "      <td>3028937502</td>\n",
       "      <td>3028937502</td>\n",
       "      <td>3390250 , 3338313</td>\n",
       "      <td>234 Skillman avenue</td>\n",
       "      <td>11211</td>\n",
       "      <td>234</td>\n",
       "      <td>SKILLMAN AVENUE</td>\n",
       "      <td>Brooklyn</td>\n",
       "      <td>61811.0</td>\n",
       "      <td>Multifamily Housing</td>\n",
       "      <td>Multifamily Housing</td>\n",
       "      <td>Multifamily Housing</td>\n",
       "      <td>56900.0</td>\n",
       "      <td>2004</td>\n",
       "      <td>1</td>\n",
       "      <td>90</td>\n",
       "      <td>Whole Building</td>\n",
       "      <td>NaN</td>\n",
       "      <td>1.0</td>\n",
       "      <td>869265.0</td>\n",
       "      <td>939329.0</td>\n",
       "      <td>9.9</td>\n",
       "      <td>9393.0</td>\n",
       "      <td>986366.0</td>\n",
       "      <td>4.945919e+10</td>\n",
       "      <td>534458968.8</td>\n",
       "      <td>1983655.6</td>\n",
       "      <td>563239.6</td>\n",
       "      <td>2627199.1</td>\n",
       "      <td>2627015.0</td>\n",
       "      <td>184.1</td>\n",
       "      <td>56900</td>\n",
       "      <td>2547.9</td>\n",
       "      <td>44.78</td>\n",
       "      <td>912801.1</td>\n",
       "      <td>05/01/2017 11:34:14 PM</td>\n",
       "      <td>NaN</td>\n",
       "      <td>In Compliance</td>\n",
       "      <td>40.716233</td>\n",
       "      <td>-73.94141</td>\n",
       "      <td>1.0</td>\n",
       "      <td>34.0</td>\n",
       "      <td>477.0</td>\n",
       "      <td>East Williamsburg                             ...</td>\n",
       "    </tr>\n",
       "  </tbody>\n",
       "</table>\n",
       "</div>"
      ],
      "text/plain": [
       "      Order  Property Id Property Name                   Parent Property Id  \\\n",
       "8068   9984      4414323  234 Skillman  Not Applicable: Standalone Property   \n",
       "\n",
       "                     Parent Property Name BBL - 10 digits  \\\n",
       "8068  Not Applicable: Standalone Property      3028937502   \n",
       "\n",
       "     NYC Borough, Block and Lot (BBL) self-reported  \\\n",
       "8068                                     3028937502   \n",
       "\n",
       "     NYC Building Identification Number (BIN) Address 1 (self-reported)  \\\n",
       "8068                        3390250 , 3338313       234 Skillman avenue   \n",
       "\n",
       "     Postal Code Street Number      Street Name   Borough  \\\n",
       "8068       11211           234  SKILLMAN AVENUE  Brooklyn   \n",
       "\n",
       "      DOF Gross Floor Area Primary Property Type - Self Selected  \\\n",
       "8068               61811.0                   Multifamily Housing   \n",
       "\n",
       "     List of All Property Use Types at Property Largest Property Use Type  \\\n",
       "8068                        Multifamily Housing       Multifamily Housing   \n",
       "\n",
       "      Largest Property Use Type - Gross Floor Area (ft²)  Year Built  \\\n",
       "8068                                            56900.0         2004   \n",
       "\n",
       "      Number of Buildings - Self-reported  Occupancy Metered Areas (Energy)  \\\n",
       "8068                                    1         90         Whole Building   \n",
       "\n",
       "     Metered Areas  (Water)  ENERGY STAR Score  Site EUI (kBtu/ft²)  \\\n",
       "8068                    NaN                1.0             869265.0   \n",
       "\n",
       "      Weather Normalized Site EUI (kBtu/ft²)  \\\n",
       "8068                                939329.0   \n",
       "\n",
       "      Weather Normalized Site Electricity Intensity (kWh/ft²)  \\\n",
       "8068                                                9.9         \n",
       "\n",
       "      Weather Normalized Site Natural Gas Intensity (therms/ft²)  \\\n",
       "8068                                             9393.0            \n",
       "\n",
       "      Weather Normalized Source EUI (kBtu/ft²)  Natural Gas Use (kBtu)  \\\n",
       "8068                                  986366.0            4.945919e+10   \n",
       "\n",
       "      Weather Normalized Site Natural Gas Use (therms)  \\\n",
       "8068                                       534458968.8   \n",
       "\n",
       "      Electricity Use - Grid Purchase (kBtu)  \\\n",
       "8068                               1983655.6   \n",
       "\n",
       "      Weather Normalized Site Electricity (kWh)  \\\n",
       "8068                                   563239.6   \n",
       "\n",
       "      Total GHG Emissions (Metric Tons CO2e)  \\\n",
       "8068                               2627199.1   \n",
       "\n",
       "      Direct GHG Emissions (Metric Tons CO2e)  \\\n",
       "8068                                2627015.0   \n",
       "\n",
       "      Indirect GHG Emissions (Metric Tons CO2e)  \\\n",
       "8068                                      184.1   \n",
       "\n",
       "      Property GFA - Self-Reported (ft²)  \\\n",
       "8068                               56900   \n",
       "\n",
       "      Water Use (All Water Sources) (kgal)  \\\n",
       "8068                                2547.9   \n",
       "\n",
       "      Water Intensity (All Water Sources) (gal/ft²)  Source EUI (kBtu/ft²)  \\\n",
       "8068                                          44.78               912801.1   \n",
       "\n",
       "                Release Date Water Required?  \\\n",
       "8068  05/01/2017 11:34:14 PM             NaN   \n",
       "\n",
       "     DOF Benchmarking Submission Status   Latitude  Longitude  \\\n",
       "8068                      In Compliance  40.716233  -73.94141   \n",
       "\n",
       "      Community Board  Council District  Census Tract  \\\n",
       "8068              1.0              34.0         477.0   \n",
       "\n",
       "                                                    NTA  \n",
       "8068  East Williamsburg                             ...  "
      ]
     },
     "execution_count": 16,
     "metadata": {},
     "output_type": "execute_result"
    }
   ],
   "source": [
    "data.loc[data['Site EUI (kBtu/ft²)'] == 869265]"
   ]
  },
  {
   "cell_type": "code",
   "execution_count": 17,
   "metadata": {},
   "outputs": [],
   "source": [
    "#Remove outlier by removeing the records with less than -3*IQR and above +3*IQR\n",
    "\n",
    "first_quartile = data['Site EUI (kBtu/ft²)'].describe()['25%']\n",
    "third_quartile = data['Site EUI (kBtu/ft²)'].describe()['75%']\n",
    "\n",
    "IQR = third_quartile - first_quartile\n",
    "\n"
   ]
  },
  {
   "cell_type": "code",
   "execution_count": 18,
   "metadata": {},
   "outputs": [
    {
     "data": {
      "text/plain": [
       "205.0"
      ]
     },
     "execution_count": 18,
     "metadata": {},
     "output_type": "execute_result"
    }
   ],
   "source": [
    "third_quartile +3*IQR"
   ]
  },
  {
   "cell_type": "code",
   "execution_count": 19,
   "metadata": {},
   "outputs": [],
   "source": [
    "data = data[(data['Site EUI (kBtu/ft²)'] > (first_quartile -3*IQR)) & \n",
    "            (data['Site EUI (kBtu/ft²)'] <(third_quartile +3*IQR))]"
   ]
  },
  {
   "cell_type": "code",
   "execution_count": 20,
   "metadata": {},
   "outputs": [
    {
     "data": {
      "text/plain": [
       "Text(0.5, 1.0, 'Site EUI Distribution')"
      ]
     },
     "execution_count": 20,
     "metadata": {},
     "output_type": "execute_result"
    },
    {
     "data": {
      "image/png": "[encoded data removed]",
      "text/plain": [
       "<Figure size 576x360 with 1 Axes>"
      ]
     },
     "metadata": {
      "needs_background": "light"
     },
     "output_type": "display_data"
    }
   ],
   "source": [
    "plt.figure(figsize = (8,5))\n",
    "\n",
    "plt.hist(data['Site EUI (kBtu/ft²)'])\n",
    "plt.xlabel('Site EUI (kBtu/ft²')\n",
    "plt.ylabel('count')\n",
    "plt.title('Site EUI Distribution')"
   ]
  },
  {
   "cell_type": "markdown",
   "metadata": {},
   "source": [
    "Now the data is nearly normally distributed"
   ]
  },
  {
   "cell_type": "markdown",
   "metadata": {},
   "source": [
    "##### Looking for Relationship"
   ]
  },
  {
   "cell_type": "code",
   "execution_count": 21,
   "metadata": {},
   "outputs": [],
   "source": [
    "# Create a list of buildings with more than 100 measurements\n",
    "\n",
    "prop_type = data['Largest Property Use Type'].value_counts()\n",
    "prop_type = list(prop_type[prop_type > 100].index)"
   ]
  },
  {
   "cell_type": "code",
   "execution_count": 22,
   "metadata": {},
   "outputs": [
    {
     "data": {
      "image/png": "[encoded data removed]",
      "text/plain": [
       "<Figure size 864x576 with 1 Axes>"
      ]
     },
     "metadata": {
      "needs_background": "light"
     },
     "output_type": "display_data"
    }
   ],
   "source": [
    "plt.figure(figsize = (12,8))\n",
    "for i in prop_type:\n",
    "    subset = data[data['Largest Property Use Type'] == i]\n",
    "    sns.kdeplot(subset['ENERGY STAR Score'].dropna(), label = i)\n",
    "    plt.xlabel('Energy Star Score', size = 15)\n",
    "    plt.ylabel('Density', size = 15)\n",
    "    plt.title('Density Plot of Energy Star Scores by Building Type', size = 15)"
   ]
  },
  {
   "cell_type": "code",
   "execution_count": 23,
   "metadata": {},
   "outputs": [
    {
     "data": {
      "image/png": "[encoded data removed]",
      "text/plain": [
       "<Figure size 864x576 with 1 Axes>"
      ]
     },
     "metadata": {
      "needs_background": "light"
     },
     "output_type": "display_data"
    }
   ],
   "source": [
    "# Create a list of boroughs with more than 100 observations\n",
    "plt.figure(figsize = (12,8))\n",
    "boroughs = data['Borough'].value_counts()\n",
    "boroughs = boroughs[boroughs>100].index\n",
    "\n",
    "for i in boroughs:\n",
    "    subset = data[data['Borough'] == i]\n",
    "    sns.kdeplot(subset['ENERGY STAR Score'].dropna(), label = i)"
   ]
  },
  {
   "cell_type": "markdown",
   "metadata": {},
   "source": [
    "From the above graph shows that \"Largest Property Use Type\"has some significant effect on \"ENERGY STAR Score\" but \"Borough\" donot have the significant effect"
   ]
  },
  {
   "cell_type": "markdown",
   "metadata": {},
   "source": [
    "#### Correlations between Features and Target"
   ]
  },
  {
   "cell_type": "code",
   "execution_count": 24,
   "metadata": {},
   "outputs": [
    {
     "data": {
      "text/plain": [
       "Site EUI (kBtu/ft²)                                       -0.723864\n",
       "Weather Normalized Site EUI (kBtu/ft²)                    -0.713993\n",
       "Weather Normalized Source EUI (kBtu/ft²)                  -0.645542\n",
       "Source EUI (kBtu/ft²)                                     -0.641037\n",
       "Weather Normalized Site Electricity Intensity (kWh/ft²)   -0.358394\n",
       "Name: ENERGY STAR Score, dtype: float64"
      ]
     },
     "execution_count": 24,
     "metadata": {},
     "output_type": "execute_result"
    }
   ],
   "source": [
    "data.corr()['ENERGY STAR Score'].sort_values(ascending = True).head()"
   ]
  },
  {
   "cell_type": "code",
   "execution_count": 25,
   "metadata": {},
   "outputs": [],
   "source": [
    "# Log & Sqrt transformation of numerical columns\n",
    "\n",
    "num_col = data.select_dtypes('number')\n",
    "\n",
    "for i in num_col.columns:\n",
    "    if i == 'ENERGY STAR Score':\n",
    "        next\n",
    "    else:\n",
    "        num_col['Sqrt_'+i] = np.sqrt(num_col[i])\n",
    "        num_col['Log_'+i] = np.log(num_col[i])"
   ]
  },
  {
   "cell_type": "code",
   "execution_count": 26,
   "metadata": {},
   "outputs": [],
   "source": [
    "# One hot encodeing of Largest Property Use Type and Borough\n",
    "cat_col = data[['Largest Property Use Type', 'Borough']]\n",
    "\n",
    "cat_col = pd.get_dummies(cat_col)"
   ]
  },
  {
   "cell_type": "code",
   "execution_count": 27,
   "metadata": {},
   "outputs": [
    {
     "data": {
      "text/html": [
       "<div>\n",
       "<style scoped>\n",
       "    .dataframe tbody tr th:only-of-type {\n",
       "        vertical-align: middle;\n",
       "    }\n",
       "\n",
       "    .dataframe tbody tr th {\n",
       "        vertical-align: top;\n",
       "    }\n",
       "\n",
       "    .dataframe thead th {\n",
       "        text-align: right;\n",
       "    }\n",
       "</style>\n",
       "<table border=\"1\" class=\"dataframe\">\n",
       "  <thead>\n",
       "    <tr style=\"text-align: right;\">\n",
       "      <th></th>\n",
       "      <th>Order</th>\n",
       "      <th>Property Id</th>\n",
       "      <th>DOF Gross Floor Area</th>\n",
       "      <th>Largest Property Use Type - Gross Floor Area (ft²)</th>\n",
       "      <th>Year Built</th>\n",
       "      <th>Number of Buildings - Self-reported</th>\n",
       "      <th>Occupancy</th>\n",
       "      <th>ENERGY STAR Score</th>\n",
       "      <th>Site EUI (kBtu/ft²)</th>\n",
       "      <th>Weather Normalized Site EUI (kBtu/ft²)</th>\n",
       "      <th>Weather Normalized Site Electricity Intensity (kWh/ft²)</th>\n",
       "      <th>Weather Normalized Site Natural Gas Intensity (therms/ft²)</th>\n",
       "      <th>Weather Normalized Source EUI (kBtu/ft²)</th>\n",
       "      <th>Natural Gas Use (kBtu)</th>\n",
       "      <th>Weather Normalized Site Natural Gas Use (therms)</th>\n",
       "      <th>Electricity Use - Grid Purchase (kBtu)</th>\n",
       "      <th>Weather Normalized Site Electricity (kWh)</th>\n",
       "      <th>Total GHG Emissions (Metric Tons CO2e)</th>\n",
       "      <th>Direct GHG Emissions (Metric Tons CO2e)</th>\n",
       "      <th>Indirect GHG Emissions (Metric Tons CO2e)</th>\n",
       "      <th>Property GFA - Self-Reported (ft²)</th>\n",
       "      <th>Water Use (All Water Sources) (kgal)</th>\n",
       "      <th>Water Intensity (All Water Sources) (gal/ft²)</th>\n",
       "      <th>Source EUI (kBtu/ft²)</th>\n",
       "      <th>Latitude</th>\n",
       "      <th>Longitude</th>\n",
       "      <th>Community Board</th>\n",
       "      <th>Council District</th>\n",
       "      <th>Census Tract</th>\n",
       "      <th>Sqrt_Order</th>\n",
       "      <th>...</th>\n",
       "      <th>Largest Property Use Type_Other - Entertainment/Public Assembly</th>\n",
       "      <th>Largest Property Use Type_Other - Lodging/Residential</th>\n",
       "      <th>Largest Property Use Type_Other - Mall</th>\n",
       "      <th>Largest Property Use Type_Other - Public Services</th>\n",
       "      <th>Largest Property Use Type_Other - Recreation</th>\n",
       "      <th>Largest Property Use Type_Other - Services</th>\n",
       "      <th>Largest Property Use Type_Other - Specialty Hospital</th>\n",
       "      <th>Largest Property Use Type_Outpatient Rehabilitation/Physical Therapy</th>\n",
       "      <th>Largest Property Use Type_Parking</th>\n",
       "      <th>Largest Property Use Type_Performing Arts</th>\n",
       "      <th>Largest Property Use Type_Pre-school/Daycare</th>\n",
       "      <th>Largest Property Use Type_Refrigerated Warehouse</th>\n",
       "      <th>Largest Property Use Type_Repair Services (Vehicle, Shoe, Locksmith, etc.)</th>\n",
       "      <th>Largest Property Use Type_Residence Hall/Dormitory</th>\n",
       "      <th>Largest Property Use Type_Residential Care Facility</th>\n",
       "      <th>Largest Property Use Type_Restaurant</th>\n",
       "      <th>Largest Property Use Type_Retail Store</th>\n",
       "      <th>Largest Property Use Type_Self-Storage Facility</th>\n",
       "      <th>Largest Property Use Type_Senior Care Community</th>\n",
       "      <th>Largest Property Use Type_Social/Meeting Hall</th>\n",
       "      <th>Largest Property Use Type_Strip Mall</th>\n",
       "      <th>Largest Property Use Type_Supermarket/Grocery Store</th>\n",
       "      <th>Largest Property Use Type_Urgent Care/Clinic/Other Outpatient</th>\n",
       "      <th>Largest Property Use Type_Wholesale Club/Supercenter</th>\n",
       "      <th>Largest Property Use Type_Worship Facility</th>\n",
       "      <th>Borough_Bronx</th>\n",
       "      <th>Borough_Brooklyn</th>\n",
       "      <th>Borough_Manhattan</th>\n",
       "      <th>Borough_Queens</th>\n",
       "      <th>Borough_Staten Island</th>\n",
       "    </tr>\n",
       "  </thead>\n",
       "  <tbody>\n",
       "    <tr>\n",
       "      <th>12</th>\n",
       "      <td>15</td>\n",
       "      <td>2637863</td>\n",
       "      <td>NaN</td>\n",
       "      <td>412503.0</td>\n",
       "      <td>1903</td>\n",
       "      <td>2</td>\n",
       "      <td>100</td>\n",
       "      <td>93.0</td>\n",
       "      <td>32.0</td>\n",
       "      <td>NaN</td>\n",
       "      <td>7.5</td>\n",
       "      <td>0.0</td>\n",
       "      <td>NaN</td>\n",
       "      <td>2047200.0</td>\n",
       "      <td>20472.0</td>\n",
       "      <td>11241926.1</td>\n",
       "      <td>3249755.2</td>\n",
       "      <td>1194.0</td>\n",
       "      <td>150.8</td>\n",
       "      <td>1043.2</td>\n",
       "      <td>432503</td>\n",
       "      <td>22061.0</td>\n",
       "      <td>51.01</td>\n",
       "      <td>87.9</td>\n",
       "      <td>NaN</td>\n",
       "      <td>NaN</td>\n",
       "      <td>NaN</td>\n",
       "      <td>NaN</td>\n",
       "      <td>NaN</td>\n",
       "      <td>3.872983</td>\n",
       "      <td>...</td>\n",
       "      <td>0</td>\n",
       "      <td>0</td>\n",
       "      <td>0</td>\n",
       "      <td>0</td>\n",
       "      <td>0</td>\n",
       "      <td>0</td>\n",
       "      <td>0</td>\n",
       "      <td>0</td>\n",
       "      <td>0</td>\n",
       "      <td>0</td>\n",
       "      <td>0</td>\n",
       "      <td>0</td>\n",
       "      <td>0</td>\n",
       "      <td>0</td>\n",
       "      <td>0</td>\n",
       "      <td>0</td>\n",
       "      <td>0</td>\n",
       "      <td>0</td>\n",
       "      <td>0</td>\n",
       "      <td>0</td>\n",
       "      <td>0</td>\n",
       "      <td>0</td>\n",
       "      <td>0</td>\n",
       "      <td>0</td>\n",
       "      <td>0</td>\n",
       "      <td>0</td>\n",
       "      <td>0</td>\n",
       "      <td>0</td>\n",
       "      <td>0</td>\n",
       "      <td>0</td>\n",
       "    </tr>\n",
       "    <tr>\n",
       "      <th>18</th>\n",
       "      <td>21</td>\n",
       "      <td>2780056</td>\n",
       "      <td>NaN</td>\n",
       "      <td>321464.0</td>\n",
       "      <td>1939</td>\n",
       "      <td>2</td>\n",
       "      <td>100</td>\n",
       "      <td>72.0</td>\n",
       "      <td>76.2</td>\n",
       "      <td>79.9</td>\n",
       "      <td>3.5</td>\n",
       "      <td>0.0</td>\n",
       "      <td>106.2</td>\n",
       "      <td>880200.0</td>\n",
       "      <td>8906.3</td>\n",
       "      <td>3968641.7</td>\n",
       "      <td>1121931.8</td>\n",
       "      <td>1893.4</td>\n",
       "      <td>1525.1</td>\n",
       "      <td>368.3</td>\n",
       "      <td>321464</td>\n",
       "      <td>5915.6</td>\n",
       "      <td>18.40</td>\n",
       "      <td>103.3</td>\n",
       "      <td>NaN</td>\n",
       "      <td>NaN</td>\n",
       "      <td>NaN</td>\n",
       "      <td>NaN</td>\n",
       "      <td>NaN</td>\n",
       "      <td>4.582576</td>\n",
       "      <td>...</td>\n",
       "      <td>0</td>\n",
       "      <td>0</td>\n",
       "      <td>0</td>\n",
       "      <td>0</td>\n",
       "      <td>0</td>\n",
       "      <td>0</td>\n",
       "      <td>0</td>\n",
       "      <td>0</td>\n",
       "      <td>0</td>\n",
       "      <td>0</td>\n",
       "      <td>0</td>\n",
       "      <td>0</td>\n",
       "      <td>0</td>\n",
       "      <td>0</td>\n",
       "      <td>0</td>\n",
       "      <td>0</td>\n",
       "      <td>0</td>\n",
       "      <td>0</td>\n",
       "      <td>0</td>\n",
       "      <td>0</td>\n",
       "      <td>0</td>\n",
       "      <td>0</td>\n",
       "      <td>0</td>\n",
       "      <td>0</td>\n",
       "      <td>0</td>\n",
       "      <td>0</td>\n",
       "      <td>0</td>\n",
       "      <td>0</td>\n",
       "      <td>0</td>\n",
       "      <td>0</td>\n",
       "    </tr>\n",
       "    <tr>\n",
       "      <th>19</th>\n",
       "      <td>22</td>\n",
       "      <td>4988574</td>\n",
       "      <td>179130.0</td>\n",
       "      <td>204720.0</td>\n",
       "      <td>1939</td>\n",
       "      <td>1</td>\n",
       "      <td>100</td>\n",
       "      <td>67.0</td>\n",
       "      <td>75.7</td>\n",
       "      <td>79.0</td>\n",
       "      <td>4.0</td>\n",
       "      <td>0.0</td>\n",
       "      <td>109.1</td>\n",
       "      <td>553439.4</td>\n",
       "      <td>5604.4</td>\n",
       "      <td>2886852.2</td>\n",
       "      <td>820016.2</td>\n",
       "      <td>1204.4</td>\n",
       "      <td>936.5</td>\n",
       "      <td>267.9</td>\n",
       "      <td>204720</td>\n",
       "      <td>NaN</td>\n",
       "      <td>NaN</td>\n",
       "      <td>106.6</td>\n",
       "      <td>40.857943</td>\n",
       "      <td>-73.934962</td>\n",
       "      <td>12.0</td>\n",
       "      <td>10.0</td>\n",
       "      <td>281.0</td>\n",
       "      <td>4.690416</td>\n",
       "      <td>...</td>\n",
       "      <td>0</td>\n",
       "      <td>0</td>\n",
       "      <td>0</td>\n",
       "      <td>0</td>\n",
       "      <td>0</td>\n",
       "      <td>0</td>\n",
       "      <td>0</td>\n",
       "      <td>0</td>\n",
       "      <td>0</td>\n",
       "      <td>0</td>\n",
       "      <td>0</td>\n",
       "      <td>0</td>\n",
       "      <td>0</td>\n",
       "      <td>0</td>\n",
       "      <td>0</td>\n",
       "      <td>0</td>\n",
       "      <td>0</td>\n",
       "      <td>0</td>\n",
       "      <td>0</td>\n",
       "      <td>0</td>\n",
       "      <td>0</td>\n",
       "      <td>0</td>\n",
       "      <td>0</td>\n",
       "      <td>0</td>\n",
       "      <td>0</td>\n",
       "      <td>0</td>\n",
       "      <td>0</td>\n",
       "      <td>1</td>\n",
       "      <td>0</td>\n",
       "      <td>0</td>\n",
       "    </tr>\n",
       "    <tr>\n",
       "      <th>20</th>\n",
       "      <td>23</td>\n",
       "      <td>4988569</td>\n",
       "      <td>102150.0</td>\n",
       "      <td>116744.0</td>\n",
       "      <td>1939</td>\n",
       "      <td>1</td>\n",
       "      <td>100</td>\n",
       "      <td>80.0</td>\n",
       "      <td>77.1</td>\n",
       "      <td>82.7</td>\n",
       "      <td>2.6</td>\n",
       "      <td>0.0</td>\n",
       "      <td>102.8</td>\n",
       "      <td>326760.6</td>\n",
       "      <td>3301.9</td>\n",
       "      <td>1081789.4</td>\n",
       "      <td>308074.6</td>\n",
       "      <td>689.0</td>\n",
       "      <td>588.6</td>\n",
       "      <td>100.4</td>\n",
       "      <td>116744</td>\n",
       "      <td>NaN</td>\n",
       "      <td>NaN</td>\n",
       "      <td>97.7</td>\n",
       "      <td>40.858256</td>\n",
       "      <td>-73.934734</td>\n",
       "      <td>12.0</td>\n",
       "      <td>10.0</td>\n",
       "      <td>281.0</td>\n",
       "      <td>4.795832</td>\n",
       "      <td>...</td>\n",
       "      <td>0</td>\n",
       "      <td>0</td>\n",
       "      <td>0</td>\n",
       "      <td>0</td>\n",
       "      <td>0</td>\n",
       "      <td>0</td>\n",
       "      <td>0</td>\n",
       "      <td>0</td>\n",
       "      <td>0</td>\n",
       "      <td>0</td>\n",
       "      <td>0</td>\n",
       "      <td>0</td>\n",
       "      <td>0</td>\n",
       "      <td>0</td>\n",
       "      <td>0</td>\n",
       "      <td>0</td>\n",
       "      <td>0</td>\n",
       "      <td>0</td>\n",
       "      <td>0</td>\n",
       "      <td>0</td>\n",
       "      <td>0</td>\n",
       "      <td>0</td>\n",
       "      <td>0</td>\n",
       "      <td>0</td>\n",
       "      <td>0</td>\n",
       "      <td>0</td>\n",
       "      <td>0</td>\n",
       "      <td>1</td>\n",
       "      <td>0</td>\n",
       "      <td>0</td>\n",
       "    </tr>\n",
       "    <tr>\n",
       "      <th>21</th>\n",
       "      <td>24</td>\n",
       "      <td>2806486</td>\n",
       "      <td>NaN</td>\n",
       "      <td>189766.0</td>\n",
       "      <td>1911</td>\n",
       "      <td>2</td>\n",
       "      <td>100</td>\n",
       "      <td>100.0</td>\n",
       "      <td>68.0</td>\n",
       "      <td>NaN</td>\n",
       "      <td>6.1</td>\n",
       "      <td>0.5</td>\n",
       "      <td>NaN</td>\n",
       "      <td>8786386.9</td>\n",
       "      <td>98264.5</td>\n",
       "      <td>4013954.9</td>\n",
       "      <td>1156269.9</td>\n",
       "      <td>847.5</td>\n",
       "      <td>475.0</td>\n",
       "      <td>372.5</td>\n",
       "      <td>189766</td>\n",
       "      <td>NaN</td>\n",
       "      <td>NaN</td>\n",
       "      <td>115.6</td>\n",
       "      <td>NaN</td>\n",
       "      <td>NaN</td>\n",
       "      <td>NaN</td>\n",
       "      <td>NaN</td>\n",
       "      <td>NaN</td>\n",
       "      <td>4.898979</td>\n",
       "      <td>...</td>\n",
       "      <td>0</td>\n",
       "      <td>0</td>\n",
       "      <td>0</td>\n",
       "      <td>0</td>\n",
       "      <td>0</td>\n",
       "      <td>0</td>\n",
       "      <td>0</td>\n",
       "      <td>0</td>\n",
       "      <td>0</td>\n",
       "      <td>0</td>\n",
       "      <td>0</td>\n",
       "      <td>0</td>\n",
       "      <td>0</td>\n",
       "      <td>0</td>\n",
       "      <td>0</td>\n",
       "      <td>0</td>\n",
       "      <td>0</td>\n",
       "      <td>0</td>\n",
       "      <td>0</td>\n",
       "      <td>0</td>\n",
       "      <td>0</td>\n",
       "      <td>0</td>\n",
       "      <td>0</td>\n",
       "      <td>0</td>\n",
       "      <td>0</td>\n",
       "      <td>0</td>\n",
       "      <td>0</td>\n",
       "      <td>0</td>\n",
       "      <td>0</td>\n",
       "      <td>0</td>\n",
       "    </tr>\n",
       "  </tbody>\n",
       "</table>\n",
       "<p>5 rows × 138 columns</p>\n",
       "</div>"
      ],
      "text/plain": [
       "    Order  Property Id  DOF Gross Floor Area  \\\n",
       "12     15      2637863                   NaN   \n",
       "18     21      2780056                   NaN   \n",
       "19     22      4988574              179130.0   \n",
       "20     23      4988569              102150.0   \n",
       "21     24      2806486                   NaN   \n",
       "\n",
       "    Largest Property Use Type - Gross Floor Area (ft²)  Year Built  \\\n",
       "12                                           412503.0         1903   \n",
       "18                                           321464.0         1939   \n",
       "19                                           204720.0         1939   \n",
       "20                                           116744.0         1939   \n",
       "21                                           189766.0         1911   \n",
       "\n",
       "    Number of Buildings - Self-reported  Occupancy  ENERGY STAR Score  \\\n",
       "12                                    2        100               93.0   \n",
       "18                                    2        100               72.0   \n",
       "19                                    1        100               67.0   \n",
       "20                                    1        100               80.0   \n",
       "21                                    2        100              100.0   \n",
       "\n",
       "    Site EUI (kBtu/ft²)  Weather Normalized Site EUI (kBtu/ft²)  \\\n",
       "12                 32.0                                     NaN   \n",
       "18                 76.2                                    79.9   \n",
       "19                 75.7                                    79.0   \n",
       "20                 77.1                                    82.7   \n",
       "21                 68.0                                     NaN   \n",
       "\n",
       "    Weather Normalized Site Electricity Intensity (kWh/ft²)  \\\n",
       "12                                                7.5         \n",
       "18                                                3.5         \n",
       "19                                                4.0         \n",
       "20                                                2.6         \n",
       "21                                                6.1         \n",
       "\n",
       "    Weather Normalized Site Natural Gas Intensity (therms/ft²)  \\\n",
       "12                                                0.0            \n",
       "18                                                0.0            \n",
       "19                                                0.0            \n",
       "20                                                0.0            \n",
       "21                                                0.5            \n",
       "\n",
       "    Weather Normalized Source EUI (kBtu/ft²)  Natural Gas Use (kBtu)  \\\n",
       "12                                       NaN               2047200.0   \n",
       "18                                     106.2                880200.0   \n",
       "19                                     109.1                553439.4   \n",
       "20                                     102.8                326760.6   \n",
       "21                                       NaN               8786386.9   \n",
       "\n",
       "    Weather Normalized Site Natural Gas Use (therms)  \\\n",
       "12                                           20472.0   \n",
       "18                                            8906.3   \n",
       "19                                            5604.4   \n",
       "20                                            3301.9   \n",
       "21                                           98264.5   \n",
       "\n",
       "    Electricity Use - Grid Purchase (kBtu)  \\\n",
       "12                              11241926.1   \n",
       "18                               3968641.7   \n",
       "19                               2886852.2   \n",
       "20                               1081789.4   \n",
       "21                               4013954.9   \n",
       "\n",
       "    Weather Normalized Site Electricity (kWh)  \\\n",
       "12                                  3249755.2   \n",
       "18                                  1121931.8   \n",
       "19                                   820016.2   \n",
       "20                                   308074.6   \n",
       "21                                  1156269.9   \n",
       "\n",
       "    Total GHG Emissions (Metric Tons CO2e)  \\\n",
       "12                                  1194.0   \n",
       "18                                  1893.4   \n",
       "19                                  1204.4   \n",
       "20                                   689.0   \n",
       "21                                   847.5   \n",
       "\n",
       "    Direct GHG Emissions (Metric Tons CO2e)  \\\n",
       "12                                    150.8   \n",
       "18                                   1525.1   \n",
       "19                                    936.5   \n",
       "20                                    588.6   \n",
       "21                                    475.0   \n",
       "\n",
       "    Indirect GHG Emissions (Metric Tons CO2e)  \\\n",
       "12                                     1043.2   \n",
       "18                                      368.3   \n",
       "19                                      267.9   \n",
       "20                                      100.4   \n",
       "21                                      372.5   \n",
       "\n",
       "    Property GFA - Self-Reported (ft²)  Water Use (All Water Sources) (kgal)  \\\n",
       "12                              432503                               22061.0   \n",
       "18                              321464                                5915.6   \n",
       "19                              204720                                   NaN   \n",
       "20                              116744                                   NaN   \n",
       "21                              189766                                   NaN   \n",
       "\n",
       "    Water Intensity (All Water Sources) (gal/ft²)  Source EUI (kBtu/ft²)  \\\n",
       "12                                          51.01                   87.9   \n",
       "18                                          18.40                  103.3   \n",
       "19                                            NaN                  106.6   \n",
       "20                                            NaN                   97.7   \n",
       "21                                            NaN                  115.6   \n",
       "\n",
       "     Latitude  Longitude  Community Board  Council District  Census Tract  \\\n",
       "12        NaN        NaN              NaN               NaN           NaN   \n",
       "18        NaN        NaN              NaN               NaN           NaN   \n",
       "19  40.857943 -73.934962             12.0              10.0         281.0   \n",
       "20  40.858256 -73.934734             12.0              10.0         281.0   \n",
       "21        NaN        NaN              NaN               NaN           NaN   \n",
       "\n",
       "    Sqrt_Order  ...  \\\n",
       "12    3.872983  ...   \n",
       "18    4.582576  ...   \n",
       "19    4.690416  ...   \n",
       "20    4.795832  ...   \n",
       "21    4.898979  ...   \n",
       "\n",
       "    Largest Property Use Type_Other - Entertainment/Public Assembly  \\\n",
       "12                                                  0                 \n",
       "18                                                  0                 \n",
       "19                                                  0                 \n",
       "20                                                  0                 \n",
       "21                                                  0                 \n",
       "\n",
       "    Largest Property Use Type_Other - Lodging/Residential  \\\n",
       "12                                                  0       \n",
       "18                                                  0       \n",
       "19                                                  0       \n",
       "20                                                  0       \n",
       "21                                                  0       \n",
       "\n",
       "    Largest Property Use Type_Other - Mall  \\\n",
       "12                                       0   \n",
       "18                                       0   \n",
       "19                                       0   \n",
       "20                                       0   \n",
       "21                                       0   \n",
       "\n",
       "    Largest Property Use Type_Other - Public Services  \\\n",
       "12                                                  0   \n",
       "18                                                  0   \n",
       "19                                                  0   \n",
       "20                                                  0   \n",
       "21                                                  0   \n",
       "\n",
       "    Largest Property Use Type_Other - Recreation  \\\n",
       "12                                             0   \n",
       "18                                             0   \n",
       "19                                             0   \n",
       "20                                             0   \n",
       "21                                             0   \n",
       "\n",
       "    Largest Property Use Type_Other - Services  \\\n",
       "12                                           0   \n",
       "18                                           0   \n",
       "19                                           0   \n",
       "20                                           0   \n",
       "21                                           0   \n",
       "\n",
       "    Largest Property Use Type_Other - Specialty Hospital  \\\n",
       "12                                                  0      \n",
       "18                                                  0      \n",
       "19                                                  0      \n",
       "20                                                  0      \n",
       "21                                                  0      \n",
       "\n",
       "    Largest Property Use Type_Outpatient Rehabilitation/Physical Therapy  \\\n",
       "12                                                  0                      \n",
       "18                                                  0                      \n",
       "19                                                  0                      \n",
       "20                                                  0                      \n",
       "21                                                  0                      \n",
       "\n",
       "    Largest Property Use Type_Parking  \\\n",
       "12                                  0   \n",
       "18                                  0   \n",
       "19                                  0   \n",
       "20                                  0   \n",
       "21                                  0   \n",
       "\n",
       "    Largest Property Use Type_Performing Arts  \\\n",
       "12                                          0   \n",
       "18                                          0   \n",
       "19                                          0   \n",
       "20                                          0   \n",
       "21                                          0   \n",
       "\n",
       "    Largest Property Use Type_Pre-school/Daycare  \\\n",
       "12                                             0   \n",
       "18                                             0   \n",
       "19                                             0   \n",
       "20                                             0   \n",
       "21                                             0   \n",
       "\n",
       "    Largest Property Use Type_Refrigerated Warehouse  \\\n",
       "12                                                 0   \n",
       "18                                                 0   \n",
       "19                                                 0   \n",
       "20                                                 0   \n",
       "21                                                 0   \n",
       "\n",
       "    Largest Property Use Type_Repair Services (Vehicle, Shoe, Locksmith, etc.)  \\\n",
       "12                                                  0                            \n",
       "18                                                  0                            \n",
       "19                                                  0                            \n",
       "20                                                  0                            \n",
       "21                                                  0                            \n",
       "\n",
       "    Largest Property Use Type_Residence Hall/Dormitory  \\\n",
       "12                                                  0    \n",
       "18                                                  0    \n",
       "19                                                  0    \n",
       "20                                                  0    \n",
       "21                                                  0    \n",
       "\n",
       "    Largest Property Use Type_Residential Care Facility  \\\n",
       "12                                                  0     \n",
       "18                                                  0     \n",
       "19                                                  0     \n",
       "20                                                  0     \n",
       "21                                                  0     \n",
       "\n",
       "    Largest Property Use Type_Restaurant  \\\n",
       "12                                     0   \n",
       "18                                     0   \n",
       "19                                     0   \n",
       "20                                     0   \n",
       "21                                     0   \n",
       "\n",
       "    Largest Property Use Type_Retail Store  \\\n",
       "12                                       0   \n",
       "18                                       0   \n",
       "19                                       0   \n",
       "20                                       0   \n",
       "21                                       0   \n",
       "\n",
       "    Largest Property Use Type_Self-Storage Facility  \\\n",
       "12                                                0   \n",
       "18                                                0   \n",
       "19                                                0   \n",
       "20                                                0   \n",
       "21                                                0   \n",
       "\n",
       "    Largest Property Use Type_Senior Care Community  \\\n",
       "12                                                0   \n",
       "18                                                0   \n",
       "19                                                0   \n",
       "20                                                0   \n",
       "21                                                0   \n",
       "\n",
       "    Largest Property Use Type_Social/Meeting Hall  \\\n",
       "12                                              0   \n",
       "18                                              0   \n",
       "19                                              0   \n",
       "20                                              0   \n",
       "21                                              0   \n",
       "\n",
       "    Largest Property Use Type_Strip Mall  \\\n",
       "12                                     0   \n",
       "18                                     0   \n",
       "19                                     0   \n",
       "20                                     0   \n",
       "21                                     0   \n",
       "\n",
       "    Largest Property Use Type_Supermarket/Grocery Store  \\\n",
       "12                                                  0     \n",
       "18                                                  0     \n",
       "19                                                  0     \n",
       "20                                                  0     \n",
       "21                                                  0     \n",
       "\n",
       "    Largest Property Use Type_Urgent Care/Clinic/Other Outpatient  \\\n",
       "12                                                  0               \n",
       "18                                                  0               \n",
       "19                                                  0               \n",
       "20                                                  0               \n",
       "21                                                  0               \n",
       "\n",
       "    Largest Property Use Type_Wholesale Club/Supercenter  \\\n",
       "12                                                  0      \n",
       "18                                                  0      \n",
       "19                                                  0      \n",
       "20                                                  0      \n",
       "21                                                  0      \n",
       "\n",
       "    Largest Property Use Type_Worship Facility  Borough_Bronx  \\\n",
       "12                                           0              0   \n",
       "18                                           0              0   \n",
       "19                                           0              0   \n",
       "20                                           0              0   \n",
       "21                                           0              0   \n",
       "\n",
       "    Borough_Brooklyn  Borough_Manhattan  Borough_Queens  Borough_Staten Island  \n",
       "12                 0                  0               0                      0  \n",
       "18                 0                  0               0                      0  \n",
       "19                 0                  1               0                      0  \n",
       "20                 0                  1               0                      0  \n",
       "21                 0                  0               0                      0  \n",
       "\n",
       "[5 rows x 138 columns]"
      ]
     },
     "execution_count": 27,
     "metadata": {},
     "output_type": "execute_result"
    }
   ],
   "source": [
    "# Combine both transformed numerical and categorical features\n",
    "\n",
    "features = pd.concat([num_col,cat_col], axis = 1)\n",
    "features = features.dropna(subset = ['ENERGY STAR Score'])\n",
    "features.head()"
   ]
  },
  {
   "cell_type": "code",
   "execution_count": 28,
   "metadata": {},
   "outputs": [
    {
     "data": {
      "text/plain": [
       "Site EUI (kBtu/ft²)                                               -0.723864\n",
       "Weather Normalized Site EUI (kBtu/ft²)                            -0.713993\n",
       "Sqrt_Site EUI (kBtu/ft²)                                          -0.699817\n",
       "Sqrt_Weather Normalized Site EUI (kBtu/ft²)                       -0.689019\n",
       "Sqrt_Weather Normalized Source EUI (kBtu/ft²)                     -0.671044\n",
       "Sqrt_Source EUI (kBtu/ft²)                                        -0.669396\n",
       "Weather Normalized Source EUI (kBtu/ft²)                          -0.645542\n",
       "Source EUI (kBtu/ft²)                                             -0.641037\n",
       "Log_Source EUI (kBtu/ft²)                                         -0.622892\n",
       "Log_Weather Normalized Source EUI (kBtu/ft²)                      -0.620329\n",
       "Log_Site EUI (kBtu/ft²)                                           -0.612039\n",
       "Log_Weather Normalized Site EUI (kBtu/ft²)                        -0.601332\n",
       "Log_Weather Normalized Site Electricity Intensity (kWh/ft²)       -0.424246\n",
       "Sqrt_Weather Normalized Site Electricity Intensity (kWh/ft²)      -0.406669\n",
       "Weather Normalized Site Electricity Intensity (kWh/ft²)           -0.358394\n",
       "Log_Total GHG Emissions (Metric Tons CO2e)                        -0.348459\n",
       "Weather Normalized Site Natural Gas Intensity (therms/ft²)        -0.346046\n",
       "Sqrt_Weather Normalized Site Natural Gas Intensity (therms/ft²)   -0.288024\n",
       "Log_Direct GHG Emissions (Metric Tons CO2e)                       -0.286138\n",
       "Sqrt_Direct GHG Emissions (Metric Tons CO2e)                      -0.285695\n",
       "Log_Electricity Use - Grid Purchase (kBtu)                        -0.254567\n",
       "Log_Weather Normalized Site Electricity (kWh)                     -0.250983\n",
       "Log_Indirect GHG Emissions (Metric Tons CO2e)                     -0.250234\n",
       "Sqrt_Natural Gas Use (kBtu)                                       -0.249354\n",
       "Sqrt_Weather Normalized Site Natural Gas Use (therms)             -0.244984\n",
       "Log_Weather Normalized Site Natural Gas Intensity (therms/ft²)    -0.241768\n",
       "Sqrt_Total GHG Emissions (Metric Tons CO2e)                       -0.234557\n",
       "Log_Natural Gas Use (kBtu)                                        -0.229755\n",
       "Log_Weather Normalized Site Natural Gas Use (therms)              -0.224520\n",
       "Log_Water Intensity (All Water Sources) (gal/ft²)                 -0.159238\n",
       "                                                                     ...   \n",
       "Largest Property Use Type_Medical Office                           0.005823\n",
       "Largest Property Use Type_Non-Refrigerated Warehouse               0.007062\n",
       "Log_Order                                                          0.008966\n",
       "Borough_Staten Island                                              0.009060\n",
       "DOF Gross Floor Area                                               0.013001\n",
       "Largest Property Use Type_Parking                                  0.013276\n",
       "Largest Property Use Type_Courthouse                               0.016445\n",
       "Largest Property Use Type_Financial Office                         0.017172\n",
       "Property GFA - Self-Reported (ft²)                                 0.017360\n",
       "Largest Property Use Type - Gross Floor Area (ft²)                 0.018330\n",
       "Sqrt_Property GFA - Self-Reported (ft²)                            0.018976\n",
       "Sqrt_Largest Property Use Type - Gross Floor Area (ft²)            0.021893\n",
       "Log_Property GFA - Self-Reported (ft²)                             0.022711\n",
       "Largest Property Use Type_Retail Store                             0.025007\n",
       "Log_Largest Property Use Type - Gross Floor Area (ft²)             0.027315\n",
       "Sqrt_Order                                                         0.028662\n",
       "Borough_Queens                                                     0.029545\n",
       "Largest Property Use Type_Supermarket/Grocery Store                0.030038\n",
       "Largest Property Use Type_Residence Hall/Dormitory                 0.035407\n",
       "Order                                                              0.036827\n",
       "Largest Property Use Type_Hospital (General Medical & Surgical)    0.048410\n",
       "Borough_Brooklyn                                                   0.050486\n",
       "Log_Community Board                                                0.055495\n",
       "Community Board                                                    0.056612\n",
       "Sqrt_Community Board                                               0.058029\n",
       "Sqrt_Council District                                              0.060623\n",
       "Log_Council District                                               0.061101\n",
       "Council District                                                   0.061639\n",
       "Largest Property Use Type_Office                                   0.158484\n",
       "ENERGY STAR Score                                                  1.000000\n",
       "Name: ENERGY STAR Score, Length: 107, dtype: float64"
      ]
     },
     "execution_count": 28,
     "metadata": {},
     "output_type": "execute_result"
    }
   ],
   "source": [
    "#Find correlations with the score\n",
    "\n",
    "features.corr()['ENERGY STAR Score'].dropna().sort_values()"
   ]
  },
  {
   "cell_type": "markdown",
   "metadata": {},
   "source": [
    "**Analysis**:\n",
    "* The log and square root transformations do not show strong relationship with score.\n",
    "* Even the categorical columns doesn't show strong relationship with score.\n",
    "* *Largest Property Use Type_Office* has shown a sight +ve correlation."
   ]
  },
  {
   "cell_type": "code",
   "execution_count": 29,
   "metadata": {},
   "outputs": [
    {
     "data": {
      "text/plain": [
       "11319"
      ]
     },
     "execution_count": 29,
     "metadata": {},
     "output_type": "execute_result"
    }
   ],
   "source": [
    "len(data['Largest Property Use Type'])"
   ]
  },
  {
   "cell_type": "code",
   "execution_count": 30,
   "metadata": {},
   "outputs": [
    {
     "data": {
      "text/plain": [
       "9461"
      ]
     },
     "execution_count": 30,
     "metadata": {},
     "output_type": "execute_result"
    }
   ],
   "source": [
    "len(data.dropna(subset=['ENERGY STAR Score'])['Largest Property Use Type'])"
   ]
  },
  {
   "cell_type": "markdown",
   "metadata": {},
   "source": [
    "#### Two-Variable Plots"
   ]
  },
  {
   "cell_type": "code",
   "execution_count": 31,
   "metadata": {},
   "outputs": [
    {
     "data": {
      "text/plain": [
       "['Multifamily Housing', 'Office', 'Hotel', 'Non-Refrigerated Warehouse']"
      ]
     },
     "execution_count": 31,
     "metadata": {},
     "output_type": "execute_result"
    }
   ],
   "source": [
    "# Find most used property types( i.e with count more than 100)\n",
    "features['Largest Property Use Type'] = data.dropna(subset=['ENERGY STAR Score'])['Largest Property Use Type']\n",
    "\n",
    "prop_type = features['Largest Property Use Type'].value_counts()\n",
    "prop_type = list(prop_type[prop_type > 100].index)\n",
    "prop_type"
   ]
  },
  {
   "cell_type": "code",
   "execution_count": 32,
   "metadata": {},
   "outputs": [
    {
     "data": {
      "text/plain": [
       "(8979, 139)"
      ]
     },
     "execution_count": 32,
     "metadata": {},
     "output_type": "execute_result"
    }
   ],
   "source": [
    "# select the data of only that features\n",
    "\n",
    "features = features[features['Largest Property Use Type'].isin(prop_type)]\n",
    "features.shape"
   ]
  },
  {
   "cell_type": "code",
   "execution_count": 33,
   "metadata": {},
   "outputs": [
    {
     "data": {
      "text/plain": [
       "<seaborn.axisgrid.FacetGrid at 0x262eab33d68>"
      ]
     },
     "execution_count": 33,
     "metadata": {},
     "output_type": "execute_result"
    },
    {
     "data": {
      "text/plain": [
       "<Figure size 1440x576 with 0 Axes>"
      ]
     },
     "metadata": {},
     "output_type": "display_data"
    },
    {
     "data": {
      "image/png": "[encoded data removed]",
      "text/plain": [
       "<Figure size 527.25x360 with 1 Axes>"
      ]
     },
     "metadata": {
      "needs_background": "light"
     },
     "output_type": "display_data"
    }
   ],
   "source": [
    "# Energy Star Score vs Site EUI\n",
    "plt.figure(figsize = (20,8))\n",
    "sns.lmplot(x = 'Site EUI (kBtu/ft²)', y='ENERGY STAR Score', data = features , hue= 'Largest Property Use Type', fit_reg = False)"
   ]
  },
  {
   "cell_type": "markdown",
   "metadata": {},
   "source": [
    "**Analysis** :\n",
    "* 'Multifamily Housing' has gradual decrease of rating with increase in size of building.\n",
    "* Most of the Office has high score with less space.\n",
    "* Score & Size of building has similar relationship like that of housing but 'Office' & 'Hotel' has more space and \n",
    "  'Non-Refrigerated Warehouse' has less space on compared with Housing \n",
    "\n"
   ]
  },
  {
   "cell_type": "markdown",
   "metadata": {},
   "source": [
    "#### Pairplot"
   ]
  },
  {
   "cell_type": "code",
   "execution_count": 34,
   "metadata": {},
   "outputs": [],
   "source": [
    "plot_data = features[['ENERGY STAR Score', 'Site EUI (kBtu/ft²)', \n",
    "                      'Weather Normalized Source EUI (kBtu/ft²)', \n",
    "                      'Log_Total GHG Emissions (Metric Tons CO2e)']]\n",
    "\n",
    "plot_data = plot_data.replace({-np.inf : np.nan, -np.inf : np.nan})\n",
    "plot_data = plot_data.dropna()\n",
    "\n",
    "plot_data = plot_data.rename(columns = {'Site EUI (kBtu/ft²)': 'Site EUI', \n",
    "                                        'Weather Normalized Source EUI (kBtu/ft²)': 'Weather Norm EUI',\n",
    "                                        'Log_Total GHG Emissions (Metric Tons CO2e)': 'log GHG Emissions'})"
   ]
  },
  {
   "cell_type": "code",
   "execution_count": 35,
   "metadata": {},
   "outputs": [
    {
     "data": {
      "text/plain": [
       "<seaborn.axisgrid.PairGrid at 0x262eac0f4a8>"
      ]
     },
     "execution_count": 35,
     "metadata": {},
     "output_type": "execute_result"
    },
    {
     "data": {
      "image/png": "[encoded data removed]",
      "text/plain": [
       "<Figure size 720x720 with 20 Axes>"
      ]
     },
     "metadata": {
      "needs_background": "light"
     },
     "output_type": "display_data"
    }
   ],
   "source": [
    "sns.pairplot(plot_data)"
   ]
  },
  {
   "cell_type": "code",
   "execution_count": 36,
   "metadata": {},
   "outputs": [
    {
     "data": {
      "text/plain": [
       "ENERGY STAR Score    1.000000\n",
       "Site EUI            -0.735898\n",
       "Weather Norm EUI    -0.666895\n",
       "log GHG Emissions   -0.345201\n",
       "Name: ENERGY STAR Score, dtype: float64"
      ]
     },
     "execution_count": 36,
     "metadata": {},
     "output_type": "execute_result"
    }
   ],
   "source": [
    "plot_data.corr()['ENERGY STAR Score']"
   ]
  },
  {
   "cell_type": "markdown",
   "metadata": {},
   "source": [
    "#### Feature Engineering and Selection¶"
   ]
  },
  {
   "cell_type": "code",
   "execution_count": 37,
   "metadata": {},
   "outputs": [],
   "source": [
    "features = data.copy()\n",
    "\n",
    "num_col = features.select_dtypes('number')\n",
    "\n",
    "for i in num_col.columns:\n",
    "    if i  == 'ENERGY STAR Score':\n",
    "        next\n",
    "    else:\n",
    "        num_col['Log_'+i] = np.log(num_col[i])\n",
    "        \n",
    "cat_col = data[['Largest Property Use Type', 'Borough']]\n",
    "cat_col = pd.get_dummies(cat_col)\n",
    "\n",
    "features = pd.concat([num_col,cat_col], axis = 1)\n"
   ]
  },
  {
   "cell_type": "code",
   "execution_count": 38,
   "metadata": {},
   "outputs": [
    {
     "data": {
      "text/plain": [
       "(11319, 110)"
      ]
     },
     "execution_count": 38,
     "metadata": {},
     "output_type": "execute_result"
    }
   ],
   "source": [
    "features.shape"
   ]
  },
  {
   "cell_type": "markdown",
   "metadata": {},
   "source": [
    "#### Remove multi-collliner Features"
   ]
  },
  {
   "cell_type": "code",
   "execution_count": 39,
   "metadata": {},
   "outputs": [],
   "source": [
    "def remove_collinear_features(x, threshold):\n",
    "    '''\n",
    "    Objective:\n",
    "        Remove collinear features in a dataframe with a correlation coefficient\n",
    "        greater than the threshold. Removing collinear features can help a model\n",
    "        to generalize and improves the interpretability of the model.\n",
    "        \n",
    "    Inputs: \n",
    "        threshold: any features with correlations greater than this value are removed\n",
    "    \n",
    "    Output: \n",
    "        dataframe that contains only the non-highly-collinear features\n",
    "    '''\n",
    "    \n",
    "    # Dont want to remove correlations between Energy Star Score\n",
    "    y = x['ENERGY STAR Score']\n",
    "    x = x.drop(columns = ['ENERGY STAR Score'])\n",
    "    \n",
    "    # Calculate the correlation matrix\n",
    "    corr_matrix = x.corr()\n",
    "    iters = range(len(corr_matrix.columns) - 1)\n",
    "    drop_cols = []\n",
    "\n",
    "    # Iterate through the correlation matrix and compare correlations\n",
    "    for i in iters:\n",
    "        for j in range(i):\n",
    "            item = corr_matrix.iloc[j:(j+1), (i+1):(i+2)]\n",
    "            col = item.columns\n",
    "            row = item.index\n",
    "            val = abs(item.values)\n",
    "            \n",
    "            # If correlation exceeds the threshold\n",
    "            if val >= threshold:\n",
    "                # Print the correlated features and the correlation value\n",
    "                # print(col.values[0], \"|\", row.values[0], \"|\", round(val[0][0], 2))\n",
    "                drop_cols.append(col.values[0])\n",
    "\n",
    "    # Drop one of each pair of correlated columns\n",
    "    drops = set(drop_cols)\n",
    "    x = x.drop(columns = drops)\n",
    "    x = x.drop(columns = ['Weather Normalized Site EUI (kBtu/ft²)', \n",
    "                          'Water Use (All Water Sources) (kgal)',\n",
    "                          'Log_Water Use (All Water Sources) (kgal)',\n",
    "                          'Largest Property Use Type - Gross Floor Area (ft²)'])\n",
    "    \n",
    "    # Add the score back in to the data\n",
    "    x['ENERGY STAR Score'] = y\n",
    "               \n",
    "    return x"
   ]
  },
  {
   "cell_type": "code",
   "execution_count": 40,
   "metadata": {},
   "outputs": [
    {
     "data": {
      "text/plain": [
       "(11319, 65)"
      ]
     },
     "execution_count": 40,
     "metadata": {},
     "output_type": "execute_result"
    }
   ],
   "source": [
    "features = remove_collinear_features(features, 0.60)\n",
    "features  = features.dropna(axis=1, how = 'all')\n",
    "features.shape"
   ]
  },
  {
   "cell_type": "markdown",
   "metadata": {},
   "source": [
    "#### Split Into Training and Testing Sets"
   ]
  },
  {
   "cell_type": "code",
   "execution_count": 41,
   "metadata": {},
   "outputs": [
    {
     "name": "stdout",
     "output_type": "stream",
     "text": [
      "(1858, 65)\n",
      "(9461, 65)\n"
     ]
    }
   ],
   "source": [
    "# Seperate the data with & without ENERGY STAR Score values\n",
    "\n",
    "no_score = features[features['ENERGY STAR Score'].isnull()]\n",
    "score = features[features['ENERGY STAR Score'].notnull()]\n",
    "print(no_score.shape)\n",
    "print(score.shape)"
   ]
  },
  {
   "cell_type": "code",
   "execution_count": 42,
   "metadata": {},
   "outputs": [],
   "source": [
    "from sklearn.model_selection import train_test_split\n",
    "y = pd.DataFrame(score['ENERGY STAR Score'])\n",
    "X = score.drop('ENERGY STAR Score', axis = 1)"
   ]
  },
  {
   "cell_type": "code",
   "execution_count": 43,
   "metadata": {},
   "outputs": [],
   "source": [
    "X = X.replace({-np.inf : np.nan , np.inf : np.nan})"
   ]
  },
  {
   "cell_type": "code",
   "execution_count": 44,
   "metadata": {},
   "outputs": [],
   "source": [
    "X_train, X_test, y_train, y_test = train_test_split(X, y, test_size=0.3, random_state=42)"
   ]
  },
  {
   "cell_type": "code",
   "execution_count": 45,
   "metadata": {},
   "outputs": [
    {
     "name": "stdout",
     "output_type": "stream",
     "text": [
      "(6622, 64)\n",
      "(2839, 64)\n",
      "(6622, 1)\n",
      "(2839, 1)\n"
     ]
    }
   ],
   "source": [
    "print(X_train.shape)\n",
    "print(X_test.shape)\n",
    "print(y_train.shape)\n",
    "print(y_test.shape)"
   ]
  },
  {
   "cell_type": "markdown",
   "metadata": {},
   "source": [
    "#### Establish a Baseline"
   ]
  },
  {
   "cell_type": "markdown",
   "metadata": {},
   "source": [
    "Baseline - the model developed should meet the following Baseline accuracy. And the baseline accuracy is \"median of train target\" "
   ]
  },
  {
   "cell_type": "code",
   "execution_count": 46,
   "metadata": {},
   "outputs": [
    {
     "data": {
      "text/plain": [
       "66.0"
      ]
     },
     "execution_count": 46,
     "metadata": {},
     "output_type": "execute_result"
    }
   ],
   "source": [
    "np.median(y_train)"
   ]
  },
  {
   "cell_type": "code",
   "execution_count": 47,
   "metadata": {},
   "outputs": [
    {
     "data": {
      "text/plain": [
       "ENERGY STAR Score   -4.617119\n",
       "dtype: float64"
      ]
     },
     "execution_count": 47,
     "metadata": {},
     "output_type": "execute_result"
    }
   ],
   "source": [
    "np.mean(y_test) - np.median(y_train)"
   ]
  },
  {
   "cell_type": "code",
   "execution_count": 48,
   "metadata": {},
   "outputs": [],
   "source": [
    "def mae(y_act, y_pred):\n",
    "    return np.mean(abs(y_act - y_pred))"
   ]
  },
  {
   "cell_type": "code",
   "execution_count": 49,
   "metadata": {},
   "outputs": [
    {
     "data": {
      "text/plain": [
       "ENERGY STAR Score    24.516379\n",
       "dtype: float64"
      ]
     },
     "execution_count": 49,
     "metadata": {},
     "output_type": "execute_result"
    }
   ],
   "source": [
    "baseline_guess = np.median(y_train)\n",
    "mae(y_test,baseline_guess)"
   ]
  },
  {
   "cell_type": "code",
   "execution_count": 50,
   "metadata": {},
   "outputs": [
    {
     "name": "stdout",
     "output_type": "stream",
     "text": [
      "The baseline_guess is 66.00\n",
      "The baseline performace is 24.5164\n"
     ]
    }
   ],
   "source": [
    "print('The baseline_guess is %0.2f'%baseline_guess)\n",
    "print('The baseline performace is %0.4f'%mae(y_test,baseline_guess))"
   ]
  },
  {
   "cell_type": "markdown",
   "metadata": {},
   "source": [
    "**Analysis**:\n",
    "* The Emergy score is between 1 -100\n",
    "* And the Mean absolute Error is 24.5 i.e 25\n",
    "* So the ML model developed should be less than Baseline Error of 25"
   ]
  },
  {
   "cell_type": "markdown",
   "metadata": {},
   "source": [
    "####  Data Pre-processing"
   ]
  },
  {
   "cell_type": "markdown",
   "metadata": {},
   "source": [
    "##### Imputing the Missing values"
   ]
  },
  {
   "cell_type": "code",
   "execution_count": 51,
   "metadata": {},
   "outputs": [],
   "source": [
    "from sklearn.preprocessing import Imputer, MinMaxScaler\n",
    "\n",
    "imputer = Imputer(strategy = 'median')\n",
    "\n",
    "imputer.fit(X_train)\n",
    "\n",
    "X_train = imputer.transform(X_train)\n",
    "X_test = imputer.transform(X_test)"
   ]
  },
  {
   "cell_type": "code",
   "execution_count": 52,
   "metadata": {},
   "outputs": [
    {
     "name": "stdout",
     "output_type": "stream",
     "text": [
      " Missing values in X_train is 0\n",
      " Missing values in X_test is 0\n"
     ]
    }
   ],
   "source": [
    "print(' Missing values in X_train is {}'.format(np.sum(np.isnan(X_train))))\n",
    "print(' Missing values in X_test is {}'.format(np.sum(np.isnan(X_test))))"
   ]
  },
  {
   "cell_type": "code",
   "execution_count": 53,
   "metadata": {},
   "outputs": [
    {
     "name": "stdout",
     "output_type": "stream",
     "text": [
      "(array([], dtype=int64), array([], dtype=int64))\n",
      "(array([], dtype=int64), array([], dtype=int64))\n"
     ]
    }
   ],
   "source": [
    "# Make sure all values are finite\n",
    "print(np.where(~np.isfinite(X_train)))\n",
    "print(np.where(~np.isfinite(X_test)))"
   ]
  },
  {
   "cell_type": "markdown",
   "metadata": {},
   "source": [
    "#### Scaling Features"
   ]
  },
  {
   "cell_type": "code",
   "execution_count": 54,
   "metadata": {},
   "outputs": [],
   "source": [
    "scaler = MinMaxScaler(feature_range=(0, 1))\n",
    "scaler.fit(X_train)\n",
    "X_train = scaler.transform(X_train)\n",
    "X_test = scaler.transform(X_test)"
   ]
  },
  {
   "cell_type": "code",
   "execution_count": 55,
   "metadata": {},
   "outputs": [],
   "source": [
    "# Reshape y to array and 1d vector\n",
    "y_train = np.array(y_train).reshape(-1,)\n",
    "y_test = np.array(y_test).reshape(-1,)"
   ]
  },
  {
   "cell_type": "markdown",
   "metadata": {},
   "source": [
    "####  Machine Learning Models"
   ]
  },
  {
   "cell_type": "markdown",
   "metadata": {},
   "source": [
    "**List of Machine Learning - Regression Models to apply**\n",
    "\n",
    "* Linear Regression\n",
    "* SVR\n",
    "* Random Forest Regression\n",
    "* Gradiant Boosting\n",
    "* K-Nearest Neighbors Regression"
   ]
  },
  {
   "cell_type": "markdown",
   "metadata": {},
   "source": [
    "##### Programs of application of ML models"
   ]
  },
  {
   "cell_type": "code",
   "execution_count": 56,
   "metadata": {},
   "outputs": [],
   "source": [
    "def mae(y_test,y_pred):\n",
    "    return np.mean(abs(y_test - y_pred ))\n",
    "\n",
    "def fit_and_evaluate(model):\n",
    "    model.fit(X_train,y_train)\n",
    "    y_pred = model.predict(X_test)\n",
    "    model_mae = mae(y_test,y_pred)\n",
    "    return model_mae"
   ]
  },
  {
   "cell_type": "code",
   "execution_count": 57,
   "metadata": {},
   "outputs": [
    {
     "name": "stdout",
     "output_type": "stream",
     "text": [
      "MAE of Linear Regression is 13.4651\n"
     ]
    }
   ],
   "source": [
    "# Applicaiton of Linear Regression\n",
    "from sklearn.linear_model import LinearRegression\n",
    "\n",
    "lr = LinearRegression()\n",
    "lr_mae = fit_and_evaluate(lr)\n",
    "print('MAE of Linear Regression is %0.4f'%lr_mae)"
   ]
  },
  {
   "cell_type": "code",
   "execution_count": 58,
   "metadata": {},
   "outputs": [
    {
     "name": "stdout",
     "output_type": "stream",
     "text": [
      "MAE of SVR is 10.9337\n"
     ]
    }
   ],
   "source": [
    "# Applicaiton of SVR\n",
    "\n",
    "from sklearn.svm import SVR\n",
    "svr = SVR(C=1000, gamma=0.1)\n",
    "\n",
    "svr_mae = fit_and_evaluate(svr)\n",
    "print('MAE of SVR is %0.4f'%svr_mae)"
   ]
  },
  {
   "cell_type": "code",
   "execution_count": 59,
   "metadata": {},
   "outputs": [
    {
     "name": "stdout",
     "output_type": "stream",
     "text": [
      "MAE of Random Forest Regression is 10.0273\n"
     ]
    }
   ],
   "source": [
    "# Applicaiton of Random Forest Regression\n",
    "\n",
    "from sklearn.ensemble import RandomForestRegressor\n",
    "rf = RandomForestRegressor(random_state=60)\n",
    "\n",
    "rf_mae = fit_and_evaluate(rf)\n",
    "print('MAE of Random Forest Regression is %0.4f'%rf_mae)"
   ]
  },
  {
   "cell_type": "code",
   "execution_count": 60,
   "metadata": {},
   "outputs": [
    {
     "name": "stdout",
     "output_type": "stream",
     "text": [
      "MAE of Gradiant Boosting is 10.0117\n"
     ]
    }
   ],
   "source": [
    "# Applicaiton of Gradiant Boosting\n",
    "\n",
    "from sklearn.ensemble import GradientBoostingRegressor\n",
    "gb = GradientBoostingRegressor(random_state=60)\n",
    "\n",
    "gb_mae = fit_and_evaluate(gb)\n",
    "print('MAE of Gradiant Boosting is %0.4f'%gb_mae)"
   ]
  },
  {
   "cell_type": "raw",
   "metadata": {},
   "source": [
    "# Applicaiton of K-Nearest Neighbors Regression\n",
    "df_knr = pd.DataFrame(list(zip(iters, knr_values)), \n",
    "               columns =['Iteration', 'Knr']) \n",
    "\n",
    "iters = []\n",
    "knr_values = []\n",
    "for i in range(1,16):\n",
    "    knr = KNeighborsRegressor(n_neighbors=i)\n",
    "    knr_mae = fit_and_evaluate(knr)\n",
    "    iters.append(i)\n",
    "    knr_values.append(knr_mae)\n",
    "    \n",
    "low_knr = df_knr.sort_values(by = 'Knr', ascending=True).head(1)\n",
    "\n",
    "print('Low MAE of K-Nearest Neighbors Regression for iteration {} is {}'.format(low_knr['Iteration'].values,low_knr['Knr'].values))"
   ]
  },
  {
   "cell_type": "code",
   "execution_count": 61,
   "metadata": {},
   "outputs": [
    {
     "name": "stdout",
     "output_type": "stream",
     "text": [
      "MAE of K-Nearest Neighbors Regression is 12.6973\n"
     ]
    }
   ],
   "source": [
    "# Applicaiton of K-Nearest Neighbors Regression\n",
    "from sklearn.neighbors import KNeighborsRegressor\n",
    "knr = KNeighborsRegressor(n_neighbors=6)\n",
    "knr_mae = fit_and_evaluate(knr)\n",
    "print('MAE of K-Nearest Neighbors Regression is %0.4f'%knr_mae)"
   ]
  },
  {
   "cell_type": "code",
   "execution_count": 62,
   "metadata": {},
   "outputs": [],
   "source": [
    "ml_df = pd.DataFrame({'Model' : ['Linear Regression', 'SVR', 'Random Forest', 'Gradiant Boosting', 'KNN Regression'], \n",
    "                      'Values' : [lr_mae, svr_mae, rf_mae, gb_mae, knr_mae ]})"
   ]
  },
  {
   "cell_type": "code",
   "execution_count": 63,
   "metadata": {},
   "outputs": [
    {
     "data": {
      "text/html": [
       "<div>\n",
       "<style scoped>\n",
       "    .dataframe tbody tr th:only-of-type {\n",
       "        vertical-align: middle;\n",
       "    }\n",
       "\n",
       "    .dataframe tbody tr th {\n",
       "        vertical-align: top;\n",
       "    }\n",
       "\n",
       "    .dataframe thead th {\n",
       "        text-align: right;\n",
       "    }\n",
       "</style>\n",
       "<table border=\"1\" class=\"dataframe\">\n",
       "  <thead>\n",
       "    <tr style=\"text-align: right;\">\n",
       "      <th></th>\n",
       "      <th>Model</th>\n",
       "      <th>Values</th>\n",
       "    </tr>\n",
       "  </thead>\n",
       "  <tbody>\n",
       "    <tr>\n",
       "      <th>3</th>\n",
       "      <td>Gradiant Boosting</td>\n",
       "      <td>10.011677</td>\n",
       "    </tr>\n",
       "    <tr>\n",
       "      <th>2</th>\n",
       "      <td>Random Forest</td>\n",
       "      <td>10.027334</td>\n",
       "    </tr>\n",
       "    <tr>\n",
       "      <th>1</th>\n",
       "      <td>SVR</td>\n",
       "      <td>10.933730</td>\n",
       "    </tr>\n",
       "    <tr>\n",
       "      <th>4</th>\n",
       "      <td>KNN Regression</td>\n",
       "      <td>12.697253</td>\n",
       "    </tr>\n",
       "    <tr>\n",
       "      <th>0</th>\n",
       "      <td>Linear Regression</td>\n",
       "      <td>13.465093</td>\n",
       "    </tr>\n",
       "  </tbody>\n",
       "</table>\n",
       "</div>"
      ],
      "text/plain": [
       "               Model     Values\n",
       "3  Gradiant Boosting  10.011677\n",
       "2      Random Forest  10.027334\n",
       "1                SVR  10.933730\n",
       "4     KNN Regression  12.697253\n",
       "0  Linear Regression  13.465093"
      ]
     },
     "execution_count": 63,
     "metadata": {},
     "output_type": "execute_result"
    }
   ],
   "source": [
    "ml_df = ml_df.sort_values('Values', ascending = True)\n",
    "ml_df"
   ]
  },
  {
   "cell_type": "code",
   "execution_count": 64,
   "metadata": {},
   "outputs": [
    {
     "data": {
      "text/plain": [
       "Text(0.5, 1.0, 'Comparision of different Models')"
      ]
     },
     "execution_count": 64,
     "metadata": {},
     "output_type": "execute_result"
    },
    {
     "data": {
      "image/png": "[encoded data removed]",
      "text/plain": [
       "<Figure size 432x288 with 1 Axes>"
      ]
     },
     "metadata": {
      "needs_background": "light"
     },
     "output_type": "display_data"
    }
   ],
   "source": [
    "ml_df.sort_values('Values', ascending = False).plot(x= 'Model', y = 'Values', kind = 'barh' )\n",
    "plt.xlabel('Mae Score')\n",
    "plt.ylabel('Models')\n",
    "plt.title('Comparision of different Models')"
   ]
  },
  {
   "cell_type": "markdown",
   "metadata": {},
   "source": [
    "So, from the above ML models Gradiant Boosting showed the best MAE score of 10.011. So we will further go-ahead with Paramaeter tuning and cross-validation for the accuracy"
   ]
  },
  {
   "cell_type": "markdown",
   "metadata": {},
   "source": [
    "#### Model Optimization"
   ]
  },
  {
   "cell_type": "code",
   "execution_count": 65,
   "metadata": {},
   "outputs": [],
   "source": [
    "# Hyperparameter Tuning\n",
    "\n",
    "\n",
    "GradientBoostingRegressor()\n",
    "\n",
    "# Loss Function\n",
    "loss = ['ls', 'lad', 'huber', 'quantile']\n",
    "\n",
    "# n_estimators is number of trees\n",
    "n_estimators = [100, 500, 900, 1100, 1500]\n",
    "\n",
    "# min_samples_split is min number of samples for a split\n",
    "min_samples_split = [2,4,6,10]\n",
    "\n",
    "#min_samples_leaf is min numb of leafs for a split\n",
    "min_samples_leaf = [1,2,4,6,8]\n",
    "\n",
    "#max_depth is max depth of the tree\n",
    "max_depth = [2,3,5,10,15]\n",
    "\n",
    "#max_features is max number of features in a split\n",
    "max_features = ['auto', 'sqrt', 'log2']\n",
    "\n",
    "\n",
    "hyperparameter_grid = { 'loss' : loss, 'n_estimators' : n_estimators, 'min_samples_split': min_samples_split,\n",
    "                      'min_samples_leaf': min_samples_leaf, 'max_depth':max_depth, 'max_features': max_features}\n"
   ]
  },
  {
   "cell_type": "code",
   "execution_count": 66,
   "metadata": {},
   "outputs": [
    {
     "data": {
      "text/plain": [
       "{'loss': ['ls', 'lad', 'huber', 'quantile'],\n",
       " 'n_estimators': [100, 500, 900, 1100, 1500],\n",
       " 'min_samples_split': [2, 4, 6, 10],\n",
       " 'min_samples_leaf': [1, 2, 4, 6, 8],\n",
       " 'max_depth': [2, 3, 5, 10, 15],\n",
       " 'max_features': ['auto', 'sqrt', 'log2']}"
      ]
     },
     "execution_count": 66,
     "metadata": {},
     "output_type": "execute_result"
    }
   ],
   "source": [
    "hyperparameter_grid"
   ]
  },
  {
   "cell_type": "code",
   "execution_count": 67,
   "metadata": {},
   "outputs": [],
   "source": [
    "from sklearn.model_selection import RandomizedSearchCV, GridSearchCV"
   ]
  },
  {
   "cell_type": "raw",
   "metadata": {},
   "source": [
    "# Set up the random search with 4-fold cross validation\n",
    "\n",
    "model = GradientBoostingRegressor(random_state=42)\n",
    "\n",
    "random_cv = RandomizedSearchCV( estimator = model, param_distributions = hyperparameter_grid,\n",
    "                                n_iter = 25, scoring = 'neg_mean_absolute_error', n_jobs = -1, cv = 4, verbose=1,\n",
    "                               return_train_score=True, random_state=42)"
   ]
  },
  {
   "cell_type": "raw",
   "metadata": {},
   "source": [
    "random_cv.fit(X_train,y_train)"
   ]
  },
  {
   "cell_type": "raw",
   "metadata": {},
   "source": [
    "random_cv.best_estimator_"
   ]
  },
  {
   "cell_type": "code",
   "execution_count": 68,
   "metadata": {},
   "outputs": [],
   "source": [
    "# Use Grid Search to further narrow down the parameters \n",
    "\n",
    "trees_grid = {'n_estimators': [100, 150, 200, 250, 300, 350, 400, 450, 500, 550, 600, 650, 700, 750, 800]}\n",
    "\n",
    "model = GradientBoostingRegressor(loss = 'lad', max_depth = 5,\n",
    "                                  min_samples_leaf = 6,\n",
    "                                  min_samples_split = 6,\n",
    "                                  max_features = None,\n",
    "                                  random_state = 42)\n",
    "\n",
    "# Grid Search Object using the trees range and the random forest model\n",
    "grid_search = GridSearchCV(estimator = model, param_grid=trees_grid, cv = 4, \n",
    "                           scoring = 'neg_mean_absolute_error', verbose = 1,\n",
    "                           n_jobs = -1, return_train_score = True)"
   ]
  },
  {
   "cell_type": "code",
   "execution_count": 69,
   "metadata": {},
   "outputs": [
    {
     "name": "stdout",
     "output_type": "stream",
     "text": [
      "Fitting 4 folds for each of 15 candidates, totalling 60 fits\n"
     ]
    },
    {
     "name": "stderr",
     "output_type": "stream",
     "text": [
      "[Parallel(n_jobs=-1)]: Using backend LokyBackend with 4 concurrent workers.\n",
      "[Parallel(n_jobs=-1)]: Done  42 tasks      | elapsed:  3.2min\n",
      "[Parallel(n_jobs=-1)]: Done  60 out of  60 | elapsed:  5.4min finished\n"
     ]
    },
    {
     "data": {
      "text/plain": [
       "GridSearchCV(cv=4, error_score='raise-deprecating',\n",
       "       estimator=GradientBoostingRegressor(alpha=0.9, criterion='friedman_mse', init=None,\n",
       "             learning_rate=0.1, loss='lad', max_depth=5, max_features=None,\n",
       "             max_leaf_nodes=None, min_impurity_decrease=0.0,\n",
       "             min_impurity_split=None, min_samples_leaf=6,\n",
       "             min_samp...te=42, subsample=1.0, tol=0.0001,\n",
       "             validation_fraction=0.1, verbose=0, warm_start=False),\n",
       "       fit_params=None, iid='warn', n_jobs=-1,\n",
       "       param_grid={'n_estimators': [100, 150, 200, 250, 300, 350, 400, 450, 500, 550, 600, 650, 700, 750, 800]},\n",
       "       pre_dispatch='2*n_jobs', refit=True, return_train_score=True,\n",
       "       scoring='neg_mean_absolute_error', verbose=1)"
      ]
     },
     "execution_count": 69,
     "metadata": {},
     "output_type": "execute_result"
    }
   ],
   "source": [
    "grid_search.fit(X_train, y_train)"
   ]
  },
  {
   "cell_type": "code",
   "execution_count": 70,
   "metadata": {},
   "outputs": [
    {
     "data": {
      "text/html": [
       "<div>\n",
       "<style scoped>\n",
       "    .dataframe tbody tr th:only-of-type {\n",
       "        vertical-align: middle;\n",
       "    }\n",
       "\n",
       "    .dataframe tbody tr th {\n",
       "        vertical-align: top;\n",
       "    }\n",
       "\n",
       "    .dataframe thead th {\n",
       "        text-align: right;\n",
       "    }\n",
       "</style>\n",
       "<table border=\"1\" class=\"dataframe\">\n",
       "  <thead>\n",
       "    <tr style=\"text-align: right;\">\n",
       "      <th></th>\n",
       "      <th>mean_fit_time</th>\n",
       "      <th>std_fit_time</th>\n",
       "      <th>mean_score_time</th>\n",
       "      <th>std_score_time</th>\n",
       "      <th>param_n_estimators</th>\n",
       "      <th>params</th>\n",
       "      <th>split0_test_score</th>\n",
       "      <th>split1_test_score</th>\n",
       "      <th>split2_test_score</th>\n",
       "      <th>split3_test_score</th>\n",
       "      <th>mean_test_score</th>\n",
       "      <th>std_test_score</th>\n",
       "      <th>rank_test_score</th>\n",
       "      <th>split0_train_score</th>\n",
       "      <th>split1_train_score</th>\n",
       "      <th>split2_train_score</th>\n",
       "      <th>split3_train_score</th>\n",
       "      <th>mean_train_score</th>\n",
       "      <th>std_train_score</th>\n",
       "    </tr>\n",
       "  </thead>\n",
       "  <tbody>\n",
       "    <tr>\n",
       "      <th>0</th>\n",
       "      <td>5.405187</td>\n",
       "      <td>0.025769</td>\n",
       "      <td>0.011718</td>\n",
       "      <td>0.006765</td>\n",
       "      <td>100</td>\n",
       "      <td>{'n_estimators': 100}</td>\n",
       "      <td>-9.059147</td>\n",
       "      <td>-8.929849</td>\n",
       "      <td>-9.402637</td>\n",
       "      <td>-9.165585</td>\n",
       "      <td>-9.139261</td>\n",
       "      <td>0.173440</td>\n",
       "      <td>15</td>\n",
       "      <td>-7.918137</td>\n",
       "      <td>-7.864550</td>\n",
       "      <td>-7.836847</td>\n",
       "      <td>-7.857162</td>\n",
       "      <td>-7.869174</td>\n",
       "      <td>0.030034</td>\n",
       "    </tr>\n",
       "    <tr>\n",
       "      <th>1</th>\n",
       "      <td>8.382748</td>\n",
       "      <td>0.116114</td>\n",
       "      <td>0.018645</td>\n",
       "      <td>0.007421</td>\n",
       "      <td>150</td>\n",
       "      <td>{'n_estimators': 150}</td>\n",
       "      <td>-8.986413</td>\n",
       "      <td>-8.865882</td>\n",
       "      <td>-9.347857</td>\n",
       "      <td>-9.138821</td>\n",
       "      <td>-9.084695</td>\n",
       "      <td>0.180082</td>\n",
       "      <td>14</td>\n",
       "      <td>-7.654401</td>\n",
       "      <td>-7.603127</td>\n",
       "      <td>-7.591472</td>\n",
       "      <td>-7.589267</td>\n",
       "      <td>-7.609567</td>\n",
       "      <td>0.026415</td>\n",
       "    </tr>\n",
       "    <tr>\n",
       "      <th>2</th>\n",
       "      <td>9.457867</td>\n",
       "      <td>0.181860</td>\n",
       "      <td>0.018235</td>\n",
       "      <td>0.004522</td>\n",
       "      <td>200</td>\n",
       "      <td>{'n_estimators': 200}</td>\n",
       "      <td>-8.941572</td>\n",
       "      <td>-8.829059</td>\n",
       "      <td>-9.312729</td>\n",
       "      <td>-9.091138</td>\n",
       "      <td>-9.043577</td>\n",
       "      <td>0.181054</td>\n",
       "      <td>13</td>\n",
       "      <td>-7.504308</td>\n",
       "      <td>-7.366527</td>\n",
       "      <td>-7.405810</td>\n",
       "      <td>-7.382212</td>\n",
       "      <td>-7.414714</td>\n",
       "      <td>0.053584</td>\n",
       "    </tr>\n",
       "    <tr>\n",
       "      <th>3</th>\n",
       "      <td>11.446927</td>\n",
       "      <td>0.302421</td>\n",
       "      <td>0.021631</td>\n",
       "      <td>0.006528</td>\n",
       "      <td>250</td>\n",
       "      <td>{'n_estimators': 250}</td>\n",
       "      <td>-8.931634</td>\n",
       "      <td>-8.820466</td>\n",
       "      <td>-9.307766</td>\n",
       "      <td>-9.078072</td>\n",
       "      <td>-9.034437</td>\n",
       "      <td>0.182317</td>\n",
       "      <td>12</td>\n",
       "      <td>-7.391415</td>\n",
       "      <td>-7.248355</td>\n",
       "      <td>-7.278189</td>\n",
       "      <td>-7.239040</td>\n",
       "      <td>-7.289250</td>\n",
       "      <td>0.060732</td>\n",
       "    </tr>\n",
       "    <tr>\n",
       "      <th>4</th>\n",
       "      <td>13.953999</td>\n",
       "      <td>0.414129</td>\n",
       "      <td>0.029272</td>\n",
       "      <td>0.002950</td>\n",
       "      <td>300</td>\n",
       "      <td>{'n_estimators': 300}</td>\n",
       "      <td>-8.911990</td>\n",
       "      <td>-8.802072</td>\n",
       "      <td>-9.313354</td>\n",
       "      <td>-9.068196</td>\n",
       "      <td>-9.023852</td>\n",
       "      <td>0.192009</td>\n",
       "      <td>11</td>\n",
       "      <td>-7.285113</td>\n",
       "      <td>-7.125781</td>\n",
       "      <td>-7.201679</td>\n",
       "      <td>-7.125255</td>\n",
       "      <td>-7.184457</td>\n",
       "      <td>0.065909</td>\n",
       "    </tr>\n",
       "  </tbody>\n",
       "</table>\n",
       "</div>"
      ],
      "text/plain": [
       "   mean_fit_time  std_fit_time  mean_score_time  std_score_time  \\\n",
       "0       5.405187      0.025769         0.011718        0.006765   \n",
       "1       8.382748      0.116114         0.018645        0.007421   \n",
       "2       9.457867      0.181860         0.018235        0.004522   \n",
       "3      11.446927      0.302421         0.021631        0.006528   \n",
       "4      13.953999      0.414129         0.029272        0.002950   \n",
       "\n",
       "  param_n_estimators                 params  split0_test_score  \\\n",
       "0                100  {'n_estimators': 100}          -9.059147   \n",
       "1                150  {'n_estimators': 150}          -8.986413   \n",
       "2                200  {'n_estimators': 200}          -8.941572   \n",
       "3                250  {'n_estimators': 250}          -8.931634   \n",
       "4                300  {'n_estimators': 300}          -8.911990   \n",
       "\n",
       "   split1_test_score  split2_test_score  split3_test_score  mean_test_score  \\\n",
       "0          -8.929849          -9.402637          -9.165585        -9.139261   \n",
       "1          -8.865882          -9.347857          -9.138821        -9.084695   \n",
       "2          -8.829059          -9.312729          -9.091138        -9.043577   \n",
       "3          -8.820466          -9.307766          -9.078072        -9.034437   \n",
       "4          -8.802072          -9.313354          -9.068196        -9.023852   \n",
       "\n",
       "   std_test_score  rank_test_score  split0_train_score  split1_train_score  \\\n",
       "0        0.173440               15           -7.918137           -7.864550   \n",
       "1        0.180082               14           -7.654401           -7.603127   \n",
       "2        0.181054               13           -7.504308           -7.366527   \n",
       "3        0.182317               12           -7.391415           -7.248355   \n",
       "4        0.192009               11           -7.285113           -7.125781   \n",
       "\n",
       "   split2_train_score  split3_train_score  mean_train_score  std_train_score  \n",
       "0           -7.836847           -7.857162         -7.869174         0.030034  \n",
       "1           -7.591472           -7.589267         -7.609567         0.026415  \n",
       "2           -7.405810           -7.382212         -7.414714         0.053584  \n",
       "3           -7.278189           -7.239040         -7.289250         0.060732  \n",
       "4           -7.201679           -7.125255         -7.184457         0.065909  "
      ]
     },
     "execution_count": 70,
     "metadata": {},
     "output_type": "execute_result"
    }
   ],
   "source": [
    "# Get the results into a dataframe\n",
    "results = pd.DataFrame(grid_search.cv_results_)\n",
    "results.head()"
   ]
  },
  {
   "cell_type": "code",
   "execution_count": 71,
   "metadata": {},
   "outputs": [
    {
     "data": {
      "text/plain": [
       "Text(0.5, 1.0, 'Performance vs Number of Trees')"
      ]
     },
     "execution_count": 71,
     "metadata": {},
     "output_type": "execute_result"
    },
    {
     "data": {
      "image/png": "[encoded data removed]",
      "text/plain": [
       "<Figure size 864x576 with 1 Axes>"
      ]
     },
     "metadata": {
      "needs_background": "light"
     },
     "output_type": "display_data"
    }
   ],
   "source": [
    "plt.figure(figsize=(12,8))\n",
    "plt.plot(results['param_n_estimators'], -1 * results['mean_test_score'], label = 'Test Error')\n",
    "plt.plot(results['param_n_estimators'], -1 * results['mean_train_score'], label = 'Train Error')\n",
    "plt.xlabel('Number of Estimators')\n",
    "plt.ylabel('MAE')\n",
    "plt.legend()\n",
    "plt.title('Performance vs Number of Trees')"
   ]
  },
  {
   "cell_type": "markdown",
   "metadata": {},
   "source": [
    "**Analysis**:\n",
    "* MAE of Train has sharpe decrease in Mean obsolute error with increase in Trees\n",
    "* But the MAE of Test has no much decrease in Mean obsolute error with increase in Trees\n",
    "* So model is learning the traininig data well but couldn't able to generalize well on test data. - So this is **overfitting**"
   ]
  },
  {
   "cell_type": "markdown",
   "metadata": {},
   "source": [
    "#### Evaluate Final Model on the Test Set"
   ]
  },
  {
   "cell_type": "code",
   "execution_count": 72,
   "metadata": {},
   "outputs": [],
   "source": [
    "# Apply and compare both the default model and best model\n",
    "\n",
    "default_model = GradientBoostingRegressor(random_state=42)\n",
    "final_model = grid_search.best_estimator_"
   ]
  },
  {
   "cell_type": "code",
   "execution_count": 73,
   "metadata": {},
   "outputs": [
    {
     "name": "stdout",
     "output_type": "stream",
     "text": [
      "1.03 s ± 68.4 ms per loop (mean ± std. dev. of 5 runs, 1 loop each)\n"
     ]
    }
   ],
   "source": [
    "%%timeit -n 1 -r 5\n",
    "default_model.fit(X_train,y_train)"
   ]
  },
  {
   "cell_type": "code",
   "execution_count": 74,
   "metadata": {},
   "outputs": [
    {
     "name": "stdout",
     "output_type": "stream",
     "text": [
      "13.7 s ± 140 ms per loop (mean ± std. dev. of 5 runs, 1 loop each)\n"
     ]
    }
   ],
   "source": [
    "%%timeit -n 1 -r 5\n",
    "final_model.fit(X_train,y_train)"
   ]
  },
  {
   "cell_type": "code",
   "execution_count": 75,
   "metadata": {},
   "outputs": [],
   "source": [
    "default_pred = default_model.predict(X_test)\n",
    "final_pred = final_model.predict(X_test)"
   ]
  },
  {
   "cell_type": "code",
   "execution_count": 76,
   "metadata": {},
   "outputs": [
    {
     "name": "stdout",
     "output_type": "stream",
     "text": [
      "The MAE of default model on test data is 10.011256876115075\n",
      "The MAE of final model on test data is 9.077025468063546\n"
     ]
    }
   ],
   "source": [
    "print('The MAE of default model on test data is {}'.format(mae(y_test,default_pred)))\n",
    "print('The MAE of final model on test data is {}'.format(mae(y_test,final_pred)))"
   ]
  },
  {
   "cell_type": "markdown",
   "metadata": {},
   "source": [
    "**The final model of Gradient Boosting with hyperparameter Tuning has performed well than default GB. And the final model mae is 9.07**"
   ]
  },
  {
   "cell_type": "code",
   "execution_count": 77,
   "metadata": {},
   "outputs": [
    {
     "data": {
      "text/plain": [
       "Text(0.5, 1.0, 'Distribution of Residuals')"
      ]
     },
     "execution_count": 77,
     "metadata": {},
     "output_type": "execute_result"
    },
    {
     "data": {
      "image/png": "[encoded data removed]",
      "text/plain": [
       "<Figure size 864x576 with 1 Axes>"
      ]
     },
     "metadata": {
      "needs_background": "light"
     },
     "output_type": "display_data"
    }
   ],
   "source": [
    "# Check distribution of residual of final model \n",
    "plt.figure(figsize=(12,8))\n",
    "residual = final_pred - y_test\n",
    "plt.hist(residual, bins=20)\n",
    "plt.xlabel('Error')\n",
    "plt.ylabel('Count')\n",
    "plt.title('Distribution of Residuals')"
   ]
  },
  {
   "cell_type": "markdown",
   "metadata": {},
   "source": [
    "**Analysis**:\n",
    "* The Residuals were highly normally distributed\n",
    "* Some Ouliers at the low end . This indicate the model estimate error was far below that of the true value"
   ]
  },
  {
   "cell_type": "markdown",
   "metadata": {},
   "source": [
    "#### Feature Importance"
   ]
  },
  {
   "cell_type": "code",
   "execution_count": 78,
   "metadata": {},
   "outputs": [],
   "source": [
    "# Extract the feature importances into a dataframe\n",
    "feature_results = pd.DataFrame({'feature': list(X.columns), \n",
    "                                'importance': final_model.feature_importances_})"
   ]
  },
  {
   "cell_type": "code",
   "execution_count": 79,
   "metadata": {},
   "outputs": [],
   "source": [
    "feature_results = feature_results.sort_values('importance', ascending = False)"
   ]
  },
  {
   "cell_type": "code",
   "execution_count": 80,
   "metadata": {},
   "outputs": [
    {
     "data": {
      "text/plain": [
       "Text(0.5, 1.0, 'Feature Importance')"
      ]
     },
     "execution_count": 80,
     "metadata": {},
     "output_type": "execute_result"
    },
    {
     "data": {
      "image/png": "[encoded data removed]",
      "text/plain": [
       "<Figure size 432x288 with 1 Axes>"
      ]
     },
     "metadata": {
      "needs_background": "light"
     },
     "output_type": "display_data"
    }
   ],
   "source": [
    "feature_results[:10].plot(x = 'feature', y = 'importance', kind = 'barh')\n",
    "plt.xlabel('Relative Importance')\n",
    "plt.ylabel('Features')\n",
    "plt.title('Feature Importance')"
   ]
  },
  {
   "cell_type": "markdown",
   "metadata": {},
   "source": [
    "**Analysis**:\n",
    "* Site EUI & Wheather Normalized Site Electricity Intensity has got more importance in prediction and others have very less role"
   ]
  },
  {
   "cell_type": "code",
   "execution_count": 81,
   "metadata": {},
   "outputs": [
    {
     "data": {
      "text/plain": [
       "['Site EUI (kBtu/ft²)',\n",
       " 'Weather Normalized Site Electricity Intensity (kWh/ft²)',\n",
       " 'Property Id',\n",
       " 'DOF Gross Floor Area',\n",
       " 'Log_Direct GHG Emissions (Metric Tons CO2e)',\n",
       " 'Largest Property Use Type_Multifamily Housing',\n",
       " 'Year Built',\n",
       " 'Order',\n",
       " 'Latitude',\n",
       " 'Longitude']"
      ]
     },
     "execution_count": 81,
     "metadata": {},
     "output_type": "execute_result"
    }
   ],
   "source": [
    "imp_features = list(feature_results['feature'][:10].values)\n",
    "imp_features"
   ]
  },
  {
   "cell_type": "code",
   "execution_count": 82,
   "metadata": {},
   "outputs": [
    {
     "data": {
      "text/plain": [
       "[6, 7, 1, 2, 14, 33, 3, 0, 10, 11]"
      ]
     },
     "execution_count": 82,
     "metadata": {},
     "output_type": "execute_result"
    }
   ],
   "source": [
    "# Extract the names of the most important features and their indices\n",
    "most_important_features = feature_results['feature'][:10]\n",
    "indices = [list(X.columns).index(x) for x in imp_features]\n",
    "indices"
   ]
  },
  {
   "cell_type": "code",
   "execution_count": 87,
   "metadata": {},
   "outputs": [
    {
     "name": "stdout",
     "output_type": "stream",
     "text": [
      "Most important training features shape:  (6622, 10)\n",
      "Most important testing  features shape:  (2839, 10)\n"
     ]
    }
   ],
   "source": [
    "# Keep only the most important features wrt indices\n",
    "X_reduced = X_train[:, indices]\n",
    "X_test_reduced = X_test[:, indices]\n",
    "\n",
    "print('Most important training features shape: ', X_reduced.shape)\n",
    "print('Most important testing  features shape: ', X_test_reduced.shape)"
   ]
  },
  {
   "cell_type": "code",
   "execution_count": 88,
   "metadata": {},
   "outputs": [
    {
     "name": "stdout",
     "output_type": "stream",
     "text": [
      "Linear Regression Full Results: MAE =    13.4651.\n",
      "Linear Regression Reduced Results: MAE = 14.9719.\n"
     ]
    }
   ],
   "source": [
    "# Application of All features and Reduced feeatures to Linear regression and comapre results\n",
    "\n",
    "lr = LinearRegression()\n",
    "\n",
    "# Fit on full set of features\n",
    "lr.fit(X_train, y_train)\n",
    "lr_full_pred = lr.predict(X_test)\n",
    "\n",
    "# Fit on reduced set of features\n",
    "lr.fit(X_reduced, y_train)\n",
    "lr_reduced_pred = lr.predict(X_test_reduced)\n",
    "\n",
    "# Display results\n",
    "print('Linear Regression Full Results: MAE =    %0.4f.' % mae(y_test, lr_full_pred))\n",
    "print('Linear Regression Reduced Results: MAE = %0.4f.' % mae(y_test, lr_reduced_pred))"
   ]
  },
  {
   "cell_type": "markdown",
   "metadata": {},
   "source": [
    "**The model with only Important features showed more Mean Absolute Error than the complete features model. So only the important features did not improve the linear regression results even the low important features contribute in improving model**"
   ]
  },
  {
   "cell_type": "code",
   "execution_count": 90,
   "metadata": {},
   "outputs": [
    {
     "name": "stdout",
     "output_type": "stream",
     "text": [
      "Gradient Boosted Reduced Results: MAE = 9.6809\n"
     ]
    }
   ],
   "source": [
    "# Create the model with the same hyperparamters\n",
    "model_reduced = GradientBoostingRegressor(loss='lad', max_depth=5, max_features=None,\n",
    "                                  min_samples_leaf=6, min_samples_split=6, \n",
    "                                  n_estimators=800, random_state=42)\n",
    "\n",
    "# Fit and test on the reduced set of features\n",
    "model_reduced.fit(X_reduced, y_train)\n",
    "model_reduced_pred = model_reduced.predict(X_test_reduced)\n",
    "\n",
    "\n",
    "print('Gradient Boosted Reduced Results: MAE = %0.4f' % mae(y_test, model_reduced_pred))\n"
   ]
  },
  {
   "cell_type": "markdown",
   "metadata": {},
   "source": [
    "**The MAE of radient Boosting with hyperparameters is 9.07 but the Gradient Boosted Reduced Results is 9.68. So same like linear regression, reduced features dont help much in accurate prediction, all the features contribute to predict the better model**"
   ]
  },
  {
   "cell_type": "markdown",
   "metadata": {},
   "source": [
    "#### Conclusion"
   ]
  },
  {
   "cell_type": "markdown",
   "metadata": {},
   "source": [
    "* **With the provided data, machine learning model can predict the Energy Star Score of a building to within 10 points.**\n",
    "* **Electricity Use Intensity is an important paramater for determining the Energy Star Score**"
   ]
  },
  {
   "cell_type": "code",
   "execution_count": null,
   "metadata": {},
   "outputs": [],
   "source": []
  }
 ],
 "metadata": {
  "kernelspec": {
   "display_name": "Python 3",
   "language": "python",
   "name": "python3"
  },
  "language_info": {
   "codemirror_mode": {
    "name": "ipython",
    "version": 3
   },
   "file_extension": ".py",
   "mimetype": "text/x-python",
   "name": "python",
   "nbconvert_exporter": "python",
   "pygments_lexer": "ipython3",
   "version": "3.6.6"
  }
 },
 "nbformat": 4,
 "nbformat_minor": 2
}
